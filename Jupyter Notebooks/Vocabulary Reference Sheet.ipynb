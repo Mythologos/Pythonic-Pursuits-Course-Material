{
 "cells": [
  {
   "cell_type": "markdown",
   "metadata": {},
   "source": [
    "# Vocabulary Reference Sheet"
   ]
  },
  {
   "cell_type": "markdown",
   "metadata": {},
   "source": [
    "Getting a little lost in all of the computer science jargon? Well, that’s what this resource is for! It compiles a list of the major terms that come out of each lecture. In that way, if you forget exactly what something means, you can come back here to reference it. Note that definitions may not be complete and may only reflect what was covered in a given lecture. They may be clarified in a later lecture and redefined at a later date. The lecturer will signify this if this is the case. Contact the lecturer if you want some other term added or if you need any clarifications on the terms below."
   ]
  },
  {
   "cell_type": "markdown",
   "metadata": {},
   "source": [
    "## Lecture 1:"
   ]
  },
  {
   "cell_type": "markdown",
   "metadata": {},
   "source": [
    "1. **Programming Language (PL):** a *syntax* or *notation* that represents an expression or a sequence of expressions that a computer can translate into machine code and can act upon.\n",
    "    1. **Higher-Level PL:** a PL that has been abstracted out from machine code and assembly language--in other words, a language that is more readable and writable for human beings than for a computer.\n",
    "        1. Python falls into this category.\n",
    "    2. **Lower-Level PL:** a PL that is not abstracted far out from machine code and assembly language--in other words, a language that is much closer to how a computer actually performs its actions.\n",
    "2. **Compiler, Interpreter:** means of converting a program from a given programming language into machine code so that it can be run.\n",
    "    1. Python uses an interpreter.\n",
    "3. **Integrated Development Environment (IDE):** a program that coders frequently use in order to make their coding process more efficient. IDEs often come with smart autocompletion, testing and debugging capabilities, automatic error-checking, console integration, and more.\n",
    "    1. PyCharm is an example of this.\n",
    "4. **Variable:** a representation of an actual value.\n",
    "    1. **Name:** the label which a value is given; textually represents a value in code.\n",
    "    2. **Address:** memory address in which a value is stored implicitly held by the variable.\n",
    "    3. **Type:** determined by the value, it indicates a set of values that have a specific set of operations which can be performed by them.\n",
    "    4. **Value:** the actual entity which the variable represents.\n",
    "    5. **Lifetime:** left undefined for now (see later lectures).\n",
    "    6. **Scope:** left undefined for now (see later lectures).\n",
    "5. **Assignment:** an expression in which a variable comes to represent a value.\n",
    "    1. In Python, the “=” operator performs assignment.\n",
    "    2. **Left-Hand Side (LHS):** the label on the left of the “=” operator.\n",
    "    3. **Right-Hand Side (RHS):** the expression (i.e. values and functions) on the right of the “=” operator.\n",
    "6. **Dynamic Typing:** a property of a PL which involves the *type* of a variable only being determined when the program is actually *run*.\n",
    "7. **Type Annotation:** a label which states what type a variable, parameter, or return value will be. It is only for reference and does not have a direct impact on running the program.\n",
    "8. **Function (AKA Method, Procedure):** that which performs the “actions” of the program--a representation of an action or set of actions that the program can perform.\n",
    "    1. **Accessor:** a function which only returns a value without changing the program. It *can* alter the program in the process of returning the value, but it must return the program to the state at which the program was run before concluding.\n",
    "    2. **Mutator:** a function that alters the program in some way.\n",
    "9. **Built-in Function (AKA Method, Procedure):** a function included within the programming language that we can use without inputting any other code or performing any other action.\n",
    "    1. e.g. print(), input(). \n",
    "10. **Integer:** a value that is a positive or negative whole number and zero; refers to the *mathematical quantity* of the numbers.\n",
    "11. **String:** a character or group of characters (i.e. the alphabet, numerical symbols, and more). Signaled by surrounding single quotations or double quotations (e.g. ‘string’ and “string” are both valid).\n",
    "    1. **Concatenation:** the “addition” of strings. Combines multiple strings into one string, preserving all characters in each string in the final result. This includes spaces.\n",
    "    2. Other string functions include:\n",
    "        1. .upper(): makes a string uppercase.\n",
    "        2. .lower(): makes a string lowercase\n",
    "        3. .title(): capitalizes the first letter of each word (separated by spaces) and makes all other letters lowercase.\n",
    "        4. .lstrip(): removes all spaces on the left side of the string.\n",
    "        5. .rstrip(): removes all spaces on the right side of the string.\n",
    "        6. .strip() removes all spaces on both sides (i.e. edges) of the string.\n",
    "12. **Operator:** a symbol that denotes a function; usually, but not always, is related to *mathematical* or *logical* values.\n",
    "13. **Parameter:** a representation of a value which a function requires to actually be enacted.\n",
    "14. **Argument:** the concrete value supplied in place of the parameter for a function to be enacted.\n",
    "15. **Function Call:** the actual use of a function, rather than a simple definition of it.\n",
    "    1. i.e.: built-in functions are defined for us, so every use of them is a function call. Similarly, any functions we define simply require us to use a separate line and their name with parentheses and any corresponding arguments inside of them to call them.\n",
    "16. **Function Body:** the “inside” of a function--the items below the *def* line of a function. Whitespace signals what is inside the function body. Furthermore, the function body is flush against the function header vertically.\n",
    "17. **Function Header:** the *def* line of the function that states a function’s name and what parameters, if any, it requires in order to be used. \n",
    "18. **Return Type:** the type of value which a function gives back to the location where the function is called at the end of its actions. Cued by the *return* keyword.\n",
    "19. **Whitespace:** blank space in the program.\n",
    "    1. Python uses whitespace in order to determine what is “inside” of what. This is important for constructions such as functions (e.g. differentiating the function header from the function body) and others that we shall see as we go on.\n",
    "20. **Dot Notation:** a way of calling a function. Requires that the function be of the appropriate type in order to be called. Uses a period (i.e. the “dot”) to call the function on a given variable."
   ]
  },
  {
   "cell_type": "markdown",
   "metadata": {},
   "source": [
    "## Bridge 1"
   ]
  },
  {
   "cell_type": "markdown",
   "metadata": {},
   "source": [
    "1. **bool**: a type referring to Boolean logic--that is, a mathematics consisting solely of '1's and '0's and centering around the values True and False.\n",
    "2. **complex**: a type composed by complex numbers. You may have also heard them called imaginary numbers. They are all of the form a + bi, where a and b are real numbers and i is the square root of -1.\n",
    "3. **float**: a type composed by rational numbers. These numbers represent all of your decimals and fractions. A computer has to find ways to represent as much as it can. It can’t represent every decimal and fraction exactly--it would have too take up too much space for that. A notation called floating-point notation is used to represent these numbers; hence, the type has been consistently called float.\n",
    "4. **type conversion**: the alteration of a value's type from one type to another (e.g. str(10) changing the *int* 10 into a *str* \"10\").\n",
    "5. **natural numbers**: the set of all positive whole numbers. Computer scientists tend to include zero in this set, whereas mathematicians tend not to do so."
   ]
  },
  {
   "cell_type": "markdown",
   "metadata": {},
   "source": [
    "## Lecture 2"
   ]
  },
  {
   "cell_type": "markdown",
   "metadata": {},
   "source": [
    "1. (WIP)"
   ]
  }
 ],
 "metadata": {
  "kernelspec": {
   "display_name": "Python 3",
   "language": "python",
   "name": "python3"
  },
  "language_info": {
   "codemirror_mode": {
    "name": "ipython",
    "version": 3
   },
   "file_extension": ".py",
   "mimetype": "text/x-python",
   "name": "python",
   "nbconvert_exporter": "python",
   "pygments_lexer": "ipython3",
   "version": "3.7.0"
  }
 },
 "nbformat": 4,
 "nbformat_minor": 2
}
