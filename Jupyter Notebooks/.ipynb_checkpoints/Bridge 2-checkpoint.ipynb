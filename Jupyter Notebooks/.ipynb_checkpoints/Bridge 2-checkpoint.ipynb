{
 "cells": [
  {
   "cell_type": "markdown",
   "metadata": {},
   "source": [
    "# The Power of Booleans: Boolean Operators"
   ]
  },
  {
   "cell_type": "markdown",
   "metadata": {},
   "source": [
    "Last time, we talked about the *bool* type--a type defined purely in two modes of True and False. We use this very basic, very simplistic type to make logical determinations about our program. These logical determinations, as we discussed, power two distinct but related fundamental constructs in programming: selection and iteration. With these constructs in hand, our programs can become massively complex, nuanced, and coordinated. However, there are many instances when True and False in and of themselves are not enough or require syntactic verbosity to represent. In such situations, we levy *Boolean logic* and its corresponding *logical operators* to determine information about our program more smoothly and elegantly.\n",
    "\n",
    "This bridge will have four sections. The first will discuss the major operators of Boolean logic: AND, OR, and NOT. The second, third, and fourth will then discuss other operators that can be used with Booleans or other types to make logical determinations. The second section will discuss comparison operators (greater-than, less-than, greater-than-or-equal-to, less-than-or-equal-to, equal-to, and not-equal-to). The third section will go over identity operators (*is* and *is not*). Finally, the fourth section will relate membership operators (*in* and *not in*). Examples throughout these discussions will utilize these operators to reinforce selection and iteration."
   ]
  },
  {
   "cell_type": "markdown",
   "metadata": {},
   "source": [
    "## Boolean Logic"
   ]
  },
  {
   "cell_type": "markdown",
   "metadata": {},
   "source": [
    "In order to approach Boolean logic, let's introduce an instance where we might be inconvenienced without it.\n",
    "\n",
    "Say that we want to determine whether we can pet a dog. Of course, unless we want to be reckless, we can't just pet any dog. First, the dog has to be near us. If not, we can't pet it at all in normal conditions. Second, we generally want to know the dog--we may not want to approach a dog that may be ill or hostile. Even if we know a dog, though, we want to be sure that the dog is not ill-tempered or vicious; we don't want the dog to retaliate to our kindness. Furthermore, we want to know that the dog is calm, as even a generally mild dog could harm us if it is in a bad mood. Finally, we want to be sure that the owner permits us to pet the dog; certainly, situations come up in which petting a dog may be harmful or inconvenient, such as when the dog is covered in flea medicine. With all of these conditions in place, we can set up some booleans to help us determine whetheror not to pet the dog. We could produce the following code:"
   ]
  },
  {
   "cell_type": "code",
   "execution_count": 7,
   "metadata": {},
   "outputs": [
    {
     "name": "stdout",
     "output_type": "stream",
     "text": [
      "I pet the dog.\n"
     ]
    }
   ],
   "source": [
    "def pet_dog():\n",
    "    print(\"I pet the dog.\")\n",
    "\n",
    "is_nearby: bool = True\n",
    "is_known: bool = True\n",
    "has_vicious_temperament: bool = False\n",
    "is_calm: bool = True\n",
    "is_permitted: bool = True\n",
    "\n",
    "if is_nearby:\n",
    "    if is_known:\n",
    "        if has_vicious_temperament:\n",
    "            pass\n",
    "        elif is_calm:\n",
    "            if is_permitted:\n",
    "                pet_dog()"
   ]
  },
  {
   "cell_type": "markdown",
   "metadata": {},
   "source": [
    "As we can see, this code is functional. However, said code is rather clunky! We have four *if* statements with three of them being nested--that is, inside of the other *if* statements. Furthermore, it is unconventional to use the *pass* keyword (which just lets the code move on and do nothing) within an *if* statement. Why write code that does nothing? It is unnecessary; we can do better and write much cleaner code.\n",
    "\n",
    "Let's tackle these problems one at a time. First, let's solve this issue with the nesting. To do so, let's consider what we *really* mean when we nest the *if* statements when we do this. We mean that *if* the dog is nearby, is known, does not have a vicious temperament, is calm, and is permitted to be pet, we may pet it. Note the conjunction--the **and**. This is the first of our logical operators. Using it, we can simplify our code above by writing what we really mean with those nested *if* statements. We can see this below:"
   ]
  },
  {
   "cell_type": "code",
   "execution_count": 8,
   "metadata": {},
   "outputs": [
    {
     "name": "stdout",
     "output_type": "stream",
     "text": [
      "I pet the dog.\n"
     ]
    }
   ],
   "source": [
    "def pet_dog():\n",
    "    print(\"I pet the dog.\")\n",
    "\n",
    "is_nearby: bool = True\n",
    "is_known: bool = True\n",
    "has_vicious_temperament: bool = False\n",
    "is_calm: bool = True\n",
    "is_permitted: bool = True\n",
    "\n",
    "if has_vicious_temperament:\n",
    "    pass\n",
    "elif is_nearby and is_known and is_calm and is_permitted:\n",
    "    pet_dog()"
   ]
  },
  {
   "cell_type": "markdown",
   "metadata": {},
   "source": [
    "Here, our **and** keyword determines whether *both* of the items around it are True. If so, it returns True. Otherwise, it returns False. In other words, for the four combinations of True and False:\n",
    "1. True and True returns True.\n",
    "2. True and False returns False.\n",
    "3. False and True returns False.\n",
    "4. False and False returns False.\n",
    "\n",
    "Only in one case does the **and** operator return True. This is fitting for our altered *elif* statement above. If all of those pieces are True, we certainly can pet the dog--meanwhile, if one of them is not True, we could not. However, we still haven't gotten rid of our problem with writing code that does nothing; we still have to supply *has_vicious_temperament* with its own line. This, too, Boolean operators can solve.\n",
    "\n",
    "As before, let us consider what we mean by having the *has_vicious_temperament* boolean on its own. We assert that if a dog has a vicious temperament, we do not want to pet it. In other words, if said dog were to not have a vicious temperament, we could potentially pet it. Focus on the word **not**: this is our second Boolean operator. It is simplier than the first and can help us condense the two conditional statements above into one.\n",
    "\n",
    "The rules of **not** are as follows:\n",
    "1. not True is False.\n",
    "2. not False is True.\n",
    "\n",
    "Pretty simple, right? The **not** operator simply negates the current Boolean value. With this, we can fold the **not** item into the *elif* statement and change said statement into an *if* statement:"
   ]
  },
  {
   "cell_type": "code",
   "execution_count": 9,
   "metadata": {},
   "outputs": [
    {
     "name": "stdout",
     "output_type": "stream",
     "text": [
      "I pet the dog.\n"
     ]
    }
   ],
   "source": [
    "def pet_dog():\n",
    "    print(\"I pet the dog.\")\n",
    "\n",
    "is_nearby: bool = True\n",
    "is_known: bool = True\n",
    "has_vicious_temperament: bool = False\n",
    "is_calm: bool = True\n",
    "is_permitted: bool = True\n",
    "\n",
    "if is_nearby and is_known and not has_vicious_temperament and is_calm and is_permitted:\n",
    "    pet_dog()"
   ]
  },
  {
   "cell_type": "markdown",
   "metadata": {},
   "source": [
    "As we can see, using the **not** operator next to the item that we wanted to negate did the trick. Going from left to right, we get that *is_nearby* and *is_known* result in True because both booleans are True. Then, while we evaluate *has_vicious_temperament* to False, the **not** operator makes it True and subsequently uses it as an argument to **and**. The initial True gotten from the first **and** and this True returns another True. As the other booleans are True, the operations proceed as *is_nearby* and *is_known* had, resulting in a single True overall. Our code is much cleaner and has removed any useless code.\n",
    "\n",
    "However, let's say that we feel that our conditions are too strict. Some dogs do have vicious temperaments--but does that matter when they are calm? Perhaps we want to argue that we can pet the dog as long as it doesn't have a vicious temperament or it is calm. A third Boolean operator reveals itself--the **or** operator. Similarly to **and**, it takes two arguments and returns some Boolean. However, this *inclusive* **or** has the following rules:\n",
    "1. True or True returns True\n",
    "2. True or False returns True\n",
    "3. False or True returns True\n",
    "4. False or False returns False\n",
    "\n",
    "In other words, **or** only results in False in one case: when both of its operands (e.g. the arguments to an operator) are False. This is exactly what we want for our circumstances--we don't want to pet the dog if and only if it is not calm and it has a vicious temperament. Therefore, we can modify our code once more:"
   ]
  },
  {
   "cell_type": "code",
   "execution_count": 10,
   "metadata": {},
   "outputs": [
    {
     "name": "stdout",
     "output_type": "stream",
     "text": [
      "I pet the dog.\n"
     ]
    }
   ],
   "source": [
    "def pet_dog():\n",
    "    print(\"I pet the dog.\")\n",
    "\n",
    "is_nearby: bool = True\n",
    "is_known: bool = True\n",
    "has_vicious_temperament: bool = False\n",
    "is_calm: bool = True\n",
    "is_permitted: bool = True\n",
    "\n",
    "if is_nearby and is_known and not has_vicious_temperament or is_calm and is_permitted:\n",
    "    pet_dog()"
   ]
  },
  {
   "cell_type": "markdown",
   "metadata": {},
   "source": [
    "Thus, we've finished our dogged endeavor. The code works and produces the desired result.\n",
    "\n",
    "... except not all is as it seems. Let's change a few of our *bool* variables:"
   ]
  },
  {
   "cell_type": "code",
   "execution_count": 11,
   "metadata": {},
   "outputs": [
    {
     "name": "stdout",
     "output_type": "stream",
     "text": [
      "I pet the dog.\n"
     ]
    }
   ],
   "source": [
    "def pet_dog():\n",
    "    print(\"I pet the dog.\")\n",
    "\n",
    "is_nearby: bool = False\n",
    "is_known: bool = False\n",
    "has_vicious_temperament: bool = True\n",
    "is_calm: bool = True\n",
    "is_permitted: bool = True\n",
    "\n",
    "if is_nearby and is_known and not has_vicious_temperament or is_calm and is_permitted:\n",
    "    pet_dog()"
   ]
  },
  {
   "cell_type": "markdown",
   "metadata": {},
   "source": [
    "Apparently, we've told the program that we can pet the dog when the dog isn't near us *and* when we don't know the dog. We didn't want to change these behaviors at all; how did they come to be that way? Has it been an innate problem from the beginning?\n",
    "\n",
    "The answer to that is no--this error only entered the code when the **or** was introduced. In order to understand this error, we have to consider the order of operations. Recall that operators are shortcuts for certain functions. Let's imagine **and**, **or**, and **not** as functions. If we do so, we'll see why an issue has arisen.\n",
    "\n",
    "Folding the above into functions, we would have:\n",
    "\n",
    "    and(or(and(and(is_nearby, is_known), not(has_vicious_temperament)), is_calm), is_permitted)\n",
    "\n",
    "... in which each Boolean evaluates as above:\n",
    "\n",
    "    and(or(and(and(False, False), not(True)), True), True)\n",
    "\n",
    "... and we start from the inside of these functions:\n",
    "\n",
    "    and(or(and(False, False), True), True)\n",
    "\n",
    "... proceeding outward:\n",
    "\n",
    "    and(or(False, True), True)\n",
    "\n",
    "    and(True, True)\n",
    "\n",
    "    True\n",
    "\n",
    "So concludes our function. The **or** operator gave us our error--it took *is_calm* as an argument equally with the result of the first three booleans. We wanted *is_calm* and **not** *has_vicious_temperament* to be paired together. As such, while we *could* reorder the items in our statement to represent this, it'd be much easier to use parentheses. We alter our code like so: "
   ]
  },
  {
   "cell_type": "code",
   "execution_count": 12,
   "metadata": {},
   "outputs": [],
   "source": [
    "def pet_dog():\n",
    "    print(\"I pet the dog.\")\n",
    "\n",
    "is_nearby: bool = False\n",
    "is_known: bool = False\n",
    "has_vicious_temperament: bool = True\n",
    "is_calm: bool = True\n",
    "is_permitted: bool = True\n",
    "\n",
    "if is_nearby and is_known and (not has_vicious_temperament or is_calm) and is_permitted:\n",
    "    pet_dog()"
   ]
  },
  {
   "cell_type": "markdown",
   "metadata": {},
   "source": [
    "As we can see, no result was produced; this was the desired behavior. To be sure, if we set all results to True:"
   ]
  },
  {
   "cell_type": "code",
   "execution_count": 13,
   "metadata": {},
   "outputs": [
    {
     "name": "stdout",
     "output_type": "stream",
     "text": [
      "I pet the dog.\n"
     ]
    }
   ],
   "source": [
    "def pet_dog():\n",
    "    print(\"I pet the dog.\")\n",
    "\n",
    "is_nearby: bool = True\n",
    "is_known: bool = True\n",
    "has_vicious_temperament: bool = True\n",
    "is_calm: bool = True\n",
    "is_permitted: bool = True\n",
    "\n",
    "if is_nearby and is_known and (not has_vicious_temperament or is_calm) and is_permitted:\n",
    "    pet_dog()"
   ]
  },
  {
   "cell_type": "markdown",
   "metadata": {},
   "source": [
    "... we do get the desired result. Although the dog has a vicious temperament, we may still pet it because it is calm. Here, the parentheses tell Python that evaluating the items inside has *precedence*--in other words, that it must be done *first*. The more parentheses there are, the higher the precedence is. This alters the function form of the Boolean operators to something like this:\n",
    "\n",
    "    and(and(and(is_nearby, is_known), or(not(has_vicious_temperament), is_calm)), is_permitted)\n",
    "\n",
    "This represents our desired behavior. Feel free to try any combination of Booleans with the given rules for Boolean operators to convince yourself that the representation matches what we desired for our problem.\n",
    "\n",
    "Boolean operators can be used in many ways; we'll see many of them in the future. However, we now have grasped the basics of the three Boolean operators: **and**, **or**, and **not**."
   ]
  },
  {
   "cell_type": "markdown",
   "metadata": {},
   "source": [
    "## Comparison Operators"
   ]
  },
  {
   "cell_type": "markdown",
   "metadata": {},
   "source": [
    "So far, we have discussed Boolean operators in their use with *bool* variables--certain variables set to some Boolean result. However, we often don't need to set specific variables to some boolean value; rather, we can evaluate certain expression in place that *result* in a Boolean and can be used in a Boolean expression thereby. In other words, instead of having something like the following:\n",
    "\n",
    "    my_bool = accessor_function(argument)\n",
    "    if not my_bool:\n",
    "        function_body()\n",
    "\n",
    "... instead, we could just say:\n",
    "\n",
    "    if not accessor_function(argument):\n",
    "        function_body()\n",
    "\n",
    "Once again, a little knowledge of syntax goes a long way to shortening up code. We could write our own functions to make logical determinations about the program. Sometimes, this is the best option. However, we could also use other operators that return Booleans. In many cases, this is much more expedient.\n",
    "\n",
    "In Lecture 2's whenTen() function, we got a preview of some *comparison* operators. This time, let's start fresh with a new example. Here's a common programming paradigm:"
   ]
  },
  {
   "cell_type": "code",
   "execution_count": 14,
   "metadata": {},
   "outputs": [
    {
     "name": "stdout",
     "output_type": "stream",
     "text": [
      "Step!\n",
      "Step!\n",
      "Step!\n",
      "-----\n",
      "Step!\n",
      "Step!\n",
      "Step!\n"
     ]
    }
   ],
   "source": [
    "def forwardMarch(number_times):\n",
    "    index: int = 0\n",
    "    while index < number_times:\n",
    "        print(\"Step!\")\n",
    "        index = index + 1\n",
    "\n",
    "forwardMarch(3)\n",
    "print(\"-----\")\n",
    "forwardMarch(3.0)"
   ]
  },
  {
   "cell_type": "markdown",
   "metadata": {},
   "source": [
    "This function is simple. Based on the input, the function prints a statement the same number of times as the input. If we changed the input, the number of times the program would print would change. Notice that we used a comparison operator between numbers in the condition for the *while* statement. In other words, whenever the *while* statement was reached, the program evaluated whether the value *index* was *less than* (<) the  value *number_times*. If this was True, the loop persisted; otherwise, it concluded. Note further that we could compare values of different types; in the two calls of *forwardMarch*, the first item is an integer and the other is a float. Yet, both were valid comparison items with an integer. For all numerical values in Python barring complex numbers, comparison is possible and valid. Despite the different types, Python has defined comparison between these two values innately for us. Thus, we do not have to worry about type inconsistencies as with addition between an integer and a string--Python knows what it is doing.\n",
    "\n",
    "As different mathematical expressions can amount fo the same thing, so too could our function above in its use of operators. For example, we could instead say the following with the less-than-or-equal-to (<=) operator:"
   ]
  },
  {
   "cell_type": "code",
   "execution_count": 15,
   "metadata": {},
   "outputs": [
    {
     "name": "stdout",
     "output_type": "stream",
     "text": [
      "Step!\n",
      "Step!\n",
      "Step!\n",
      "-----\n",
      "Step!\n",
      "Step!\n",
      "Step!\n"
     ]
    }
   ],
   "source": [
    "def forwardMarch(number_times):\n",
    "    index: int = 1\n",
    "    while index <= number_times:\n",
    "        print(\"Step!\")\n",
    "        index = index + 1\n",
    "\n",
    "forwardMarch(3)\n",
    "print(\"-----\")\n",
    "forwardMarch(3.0)"
   ]
  },
  {
   "cell_type": "markdown",
   "metadata": {},
   "source": [
    "Similarly, we could use the greater-than-or-equal-to (>=) operator with a mild shift in thinking:"
   ]
  },
  {
   "cell_type": "code",
   "execution_count": 16,
   "metadata": {},
   "outputs": [
    {
     "name": "stdout",
     "output_type": "stream",
     "text": [
      "Step!\n",
      "Step!\n",
      "Step!\n",
      "-----\n",
      "Step!\n",
      "Step!\n",
      "Step!\n"
     ]
    }
   ],
   "source": [
    "def forwardMarch(number_times):\n",
    "    while number_times >= 1:\n",
    "        print(\"Step!\")\n",
    "        number_times = number_times - 1\n",
    "\n",
    "forwardMarch(3)\n",
    "print(\"-----\")\n",
    "forwardMarch(3.0)"
   ]
  },
  {
   "cell_type": "markdown",
   "metadata": {},
   "source": [
    "Similarly, we could use the greater-than (>) operator on its own:"
   ]
  },
  {
   "cell_type": "code",
   "execution_count": 17,
   "metadata": {},
   "outputs": [
    {
     "name": "stdout",
     "output_type": "stream",
     "text": [
      "Step!\n",
      "Step!\n",
      "Step!\n",
      "-----\n",
      "Step!\n",
      "Step!\n",
      "Step!\n"
     ]
    }
   ],
   "source": [
    "def forwardMarch(number_times):\n",
    "    while number_times > 0:\n",
    "        print(\"Step!\")\n",
    "        number_times = number_times - 1\n",
    "\n",
    "forwardMarch(3)\n",
    "print(\"-----\")\n",
    "forwardMarch(3.0)"
   ]
  },
  {
   "cell_type": "markdown",
   "metadata": {},
   "source": [
    "We can choose whichever way makes us more comfortable or suits the situation. However, note that the latter two examples with *forwardMarch* altered the argument, changing it over time. If we wanted to use that argument as is in the function somehow, we would have to find a way to hold onto the argument in its initial form. That way is shown below:"
   ]
  },
  {
   "cell_type": "code",
   "execution_count": 18,
   "metadata": {},
   "outputs": [
    {
     "name": "stdout",
     "output_type": "stream",
     "text": [
      "Step!\n",
      "Step!\n",
      "Step!\n",
      "3\n",
      "-----\n",
      "Step!\n",
      "Step!\n",
      "Step!\n",
      "3.0\n"
     ]
    }
   ],
   "source": [
    "def forwardMarch(number_times):\n",
    "    times = number_times\n",
    "    while number_times > 0:\n",
    "        print(\"Step!\")\n",
    "        number_times = number_times - 1 \n",
    "    print(times)\n",
    "\n",
    "forwardMarch(3)\n",
    "print(\"-----\")\n",
    "forwardMarch(3.0)"
   ]
  },
  {
   "cell_type": "markdown",
   "metadata": {},
   "source": [
    "As we can see, the initial argument was saved. We could have used *times* in the loop instead of *number_times* if we had wanted; either would suffice. \n",
    "\n",
    "Before we proceed away from this \"solution\" to holding onto the argument with the greater-than or greater-than-or-equal-to operators, one note should be made. The assignment of number_times to times *does* make a separate copy of the value that the argument labels in this instance, but it does not always. All primitive type values should copy over; however, in the future, this solution is not guaranteed to work as is. More often than not, you will likely prefer the *index* solution given in the first two *forwardMarch* examples.\n",
    "\n",
    "Thus far, we've seen four comparison operators: greater-than (>), less-than (<), greater-than-or-equal-to (>=), and less-than-or-equal-to (<=). Two more remain--equal-to (==) and not-equal-to (!=). These are simple and act as one would expect for numbers. The former returns True when the two values are equal; otherwise, it returns False. The latter does just the opposite. For example:"
   ]
  },
  {
   "cell_type": "code",
   "execution_count": 19,
   "metadata": {},
   "outputs": [
    {
     "name": "stdout",
     "output_type": "stream",
     "text": [
      "True\n",
      "False\n"
     ]
    }
   ],
   "source": [
    "print(5 == 5)\n",
    "print(5 != 5)"
   ]
  },
  {
   "cell_type": "markdown",
   "metadata": {},
   "source": [
    "Similarly, if we involve the *float* type:"
   ]
  },
  {
   "cell_type": "code",
   "execution_count": 20,
   "metadata": {},
   "outputs": [
    {
     "name": "stdout",
     "output_type": "stream",
     "text": [
      "True\n",
      "False\n"
     ]
    }
   ],
   "source": [
    "print(5 == 5.0)\n",
    "print(5 != 5.0)"
   ]
  },
  {
   "cell_type": "markdown",
   "metadata": {},
   "source": [
    "... we'll note that Python assures equality between floats and integers if it is appropriate.\n",
    "\n",
    "As a brief example, we could use equality in the *marchForward* function to indicate special behavior:"
   ]
  },
  {
   "cell_type": "code",
   "execution_count": 21,
   "metadata": {},
   "outputs": [
    {
     "name": "stdout",
     "output_type": "stream",
     "text": [
      "Step!\n",
      "Step!\n",
      "Ten-hut!\n",
      "-----\n",
      "Step!\n",
      "Step!\n",
      "Ten-hut!\n"
     ]
    }
   ],
   "source": [
    "def forwardMarch(number_times):\n",
    "    index: int = 1\n",
    "    while index <= number_times:\n",
    "        if index != number_times:\n",
    "            print(\"Step!\")\n",
    "        else:\n",
    "            print(\"Ten-hut!\")\n",
    "        index = index + 1\n",
    "\n",
    "forwardMarch(3)\n",
    "print(\"-----\")\n",
    "forwardMarch(3.0)"
   ]
  },
  {
   "cell_type": "markdown",
   "metadata": {},
   "source": [
    "As we can see, we can further specify behavior over time in the *while* loop by adding conditions to the index as it changes. Equally, we could use equal-to:"
   ]
  },
  {
   "cell_type": "code",
   "execution_count": 22,
   "metadata": {},
   "outputs": [
    {
     "name": "stdout",
     "output_type": "stream",
     "text": [
      "Step!\n",
      "Step!\n",
      "Ten-hut!\n",
      "-----\n",
      "Step!\n",
      "Step!\n",
      "Ten-hut!\n"
     ]
    }
   ],
   "source": [
    "def forwardMarch(number_times):\n",
    "    index: int = 1\n",
    "    while index <= number_times:\n",
    "        if index == number_times:\n",
    "            print(\"Ten-hut!\")\n",
    "        else:\n",
    "            print(\"Step!\")\n",
    "        index = index + 1\n",
    "\n",
    "forwardMarch(3)\n",
    "print(\"-----\")\n",
    "forwardMarch(3.0)"
   ]
  },
  {
   "cell_type": "markdown",
   "metadata": {},
   "source": [
    "Therefore, just as with the four inequality comparison operators, the equality comparison operators can be used to the same effect. It all depends on what reasoning we incline to or how we want to set up our program.\n",
    "\n",
    "Up to this point, we have only used comparison operators with numbers. However, other objects are also valid for comparison. Take *strings* as an example. Two strings are *equal* if they contain exactly the same characters in the same order. Meanwhile, inequality operators work lexicographically--in other words, in *dictionary* order. So, a word earlier in the dictionary will be \"lesser\" than one later in the dictionary. Briefly, we can view some examples of this:"
   ]
  },
  {
   "cell_type": "code",
   "execution_count": 23,
   "metadata": {},
   "outputs": [
    {
     "name": "stdout",
     "output_type": "stream",
     "text": [
      "String Comparison Examples:\n",
      "True\n",
      "True\n",
      "True\n",
      "True\n"
     ]
    }
   ],
   "source": [
    "print(\"String Comparison Examples:\")\n",
    "print(\"aardvark\" == \"aardvark\")\n",
    "print(\"aardvark\" != \"ardent\")\n",
    "print(\"aardvark\" < \"ardent\")\n",
    "print(\"xylophone\" > \"aardvark\")"
   ]
  },
  {
   "cell_type": "markdown",
   "metadata": {},
   "source": [
    "Given their use with multiple types, comparison operators can flexibly produce Booleans for evaluation in a variety of situations. However, they don't cover every type of relationship that we would want to verify. This is because some of our comparison operators are initially deceiving--that is, equal-to (==) and not-equal-to (!=) do not mean *exactly* what we might think that they mean."
   ]
  },
  {
   "cell_type": "markdown",
   "metadata": {},
   "source": [
    "## Identity Operators"
   ]
  },
  {
   "cell_type": "markdown",
   "metadata": {},
   "source": [
    "As referenced above, the equal-to (==) and not-equal-to (!=) operators are not quite what they seem. We might be inclined to think that if two objects are *equal*, they are the *same*. However, this is not always the case. At certain junctures, it is important to differentiate between objects that are the *equal* but *different* and those that are *equal* and *the same*. The aforementioned operators cannot tell us this on their own; they merely investigate *values* irregardless of their origin. However, this is not the case for **identity** operators.\n",
    "\n",
    "Identity operators are twofold--*is* and *is not*. These affirm whether an object--not just a value--is the same object or not. For now, we will not get into the details of what *objects* are. However, it is enough to say that each object has an *id* which the id() function can access. The **identity** operators compare these values. For *is*, True is returned if and only if the *id*s of each object are the same. Meanwhile, *is not* is just the opposite--True is returned if and only if the *id*s of each object are different.\n",
    "\n",
    "Below is a brief example:"
   ]
  },
  {
   "cell_type": "code",
   "execution_count": 24,
   "metadata": {},
   "outputs": [
    {
     "name": "stdout",
     "output_type": "stream",
     "text": [
      "13048096\n",
      "100999904\n",
      "13048096\n",
      "-----\n",
      "True\n",
      "True\n",
      "True\n",
      "-----\n",
      "True\n",
      "True\n",
      "True\n",
      "-----\n",
      "False\n",
      "False\n",
      "False\n",
      "-----\n"
     ]
    }
   ],
   "source": [
    "my_object = str(42)\n",
    "my_second_object = \"42\"\n",
    "my_third_object = my_object\n",
    "\n",
    "# Object IDs:\n",
    "print(id(my_object))\n",
    "print(id(my_second_object))\n",
    "print(id(my_third_object))\n",
    "print(\"-----\")\n",
    "\n",
    "# Object Equality:\n",
    "print(my_object == my_object)\n",
    "print(my_object == my_second_object)\n",
    "print(my_object == my_third_object)\n",
    "print(\"-----\")\n",
    "\n",
    "# True statements:\n",
    "print(my_object is my_object)\n",
    "print(my_object is not my_second_object)\n",
    "print(my_object is my_third_object)\n",
    "print(\"-----\")\n",
    "\n",
    "# False statements:\n",
    "print(my_object is not my_object)\n",
    "print(my_object is my_second_object)\n",
    "print(my_object is not my_third_object)\n",
    "print(\"-----\")"
   ]
  },
  {
   "cell_type": "markdown",
   "metadata": {},
   "source": [
    "Although str(42) and \"42\" are conceptually the same, they are treated as different objects. Their equalities do result in True, as they represent the same value. Since a different metric is used to determine object *identity*, however, it is not the case that the objects that have the same value are exactly the same in every instance.\n",
    "\n",
    "For now, we will not delve heavily into the uses of the identity operator. Still, in the case that we wish to affirm that two items are the same object or are not the same object, the identity operator meets our needs."
   ]
  },
  {
   "cell_type": "markdown",
   "metadata": {},
   "source": [
    "## Membership Operators"
   ]
  },
  {
   "cell_type": "markdown",
   "metadata": {},
   "source": [
    "Before we conclude, we will introduce one last operator in Python. So far, we've seen operators that take distinct values and compare various aspects about them to return some Boolean. However, we do not always want to compare the *whole* of one object with another. Rather, we might want to see whether one object *contains* another object. We can utilize **membership** operators to achieve this goal. Python provides the operators *in* and *not in* for this purpose. \n",
    "\n",
    "To, once again, avoid discussing the details of objects, we will jump straight into a simple example that relates to content that we have already studied. A good use for membership operators is with strings:"
   ]
  },
  {
   "cell_type": "code",
   "execution_count": 25,
   "metadata": {},
   "outputs": [
    {
     "name": "stdout",
     "output_type": "stream",
     "text": [
      "True\n",
      "True\n",
      "False\n"
     ]
    }
   ],
   "source": [
    "def has_word_in_sentence(word, sentence):\n",
    "    sentence = sentence.replace(' ', '')\n",
    "    sentence_copy = circular_shift(sentence)\n",
    "    wordInSentenceBool: bool = False\n",
    "    # the parentheses here help determine the order of evaluation, as before\n",
    "    while (sentence_copy != sentence) and (word not in sentence_copy):\n",
    "        sentence_copy = circular_shift(sentence_copy)\n",
    "        if word in sentence_copy:\n",
    "            wordInSentenceBool = True\n",
    "    return wordInSentenceBool\n",
    "\n",
    "def circular_shift(string):\n",
    "    if not is_empty(string):\n",
    "        # the strip functions don't have to work with just spaces; we can give them strings to get rid of, too.\n",
    "        # indexing with bracket notation as below lets us access the first character at the 0th index.\n",
    "        string = (string + string[0]).lstrip(string[0])\n",
    "    return string\n",
    "\n",
    "def is_empty(string):\n",
    "    emptyBool: bool = True\n",
    "    # certain items are \"truthy\" or  \"falsy\" in Python; an empty string is \"falsy,\" which is why the below works.\n",
    "    if string:\n",
    "        emptyBool = False\n",
    "    return emptyBool\n",
    "\n",
    "print(has_word_in_sentence('onto', 'today is on'))\n",
    "print(has_word_in_sentence('red', 'education is dear'))\n",
    "print(has_word_in_sentence('right', 'love has no bounds'))"
   ]
  },
  {
   "cell_type": "markdown",
   "metadata": {},
   "source": [
    "The above code works together to determine whether a group of characters contains a certain string. It cycles through the sentence with *circular_shift*, moving the first character to the end until the sentence copy equals the initial sentence. It can stop early if and only if the *word* string is found inside the *sentence* string at some point. For example, we see that 'onto' appears in 'today is on' once the 'to' has shifted to the end--we get 'dayisonto' (as we stripped out all of the spaces previously). We can do all this with the convenience of membership operators.\n",
    "\n",
    "Even with this agreeable use, we have hardly scratched the surface of the true power of membership operators; once we understand what objects and containers are, we'll be able to use them at a fuller capacity."
   ]
  },
  {
   "cell_type": "markdown",
   "metadata": {},
   "source": [
    "## Conclusion"
   ]
  },
  {
   "cell_type": "markdown",
   "metadata": {},
   "source": [
    "With that said, we've seen quite a few examples of operators that produce Booleans and have grasped at the basics of Boolean logic. Hopefully, seeing these examples has allowed you to get a better grasp of how powerful selection and iteration can be. More examples can be provided on request.\n",
    "\n",
    "Below are a few additional exercises concerning selection, iteration, and Booleans. Use them as you wish!"
   ]
  },
  {
   "cell_type": "markdown",
   "metadata": {},
   "source": [
    "### Optional Assignments"
   ]
  },
  {
   "cell_type": "markdown",
   "metadata": {},
   "source": [
    "1. Understanding Boolean operators and their rules is important. We can really try to grasp them by writing functions to simulate their behavior. Selection is our friend for this task! Test code will be supplied below for your convenience.\n",
    "    1. Write a function called *NOT* that simulates the **not** operator. It is True in one case and False in one case.\n",
    "    2. Write a function called *AND* that simulates the **and** operator. It is True in one case and False in three cases.\n",
    "    3. Write a function called *OR* that simulates the **or** operator. It is True in three cases and False in one case.\n",
    "2. Write a function called *factorial* that takes an integer and finds its factorial (e.g. 5! = 5 * 4 * 3 * 2 * 1). There are multiple ways to do this.\n",
    "3. Write a function called *count_both_ways* that takes two strings and counts the number of times that the first string appears in the second string when the second string is as it is given and when the second string is reversed. Note that the *is_palindrome* implementation showed how to reverse a string; alternatively, you could reverse the string on your own using a separate function with a *while* loop and indexing. "
   ]
  },
  {
   "cell_type": "markdown",
   "metadata": {},
   "source": [
    "### Test Code"
   ]
  },
  {
   "cell_type": "markdown",
   "metadata": {},
   "source": [
    "For the first problem, use the following to test your code:\n",
    "\n",
    "    # not operator:\n",
    "    NOT(True) # should return False\n",
    "    NOT(False) # should return True\n",
    "    \n",
    "    # and operator:\n",
    "    AND(True, True) # should return True\n",
    "    AND(True, False) # should return False\n",
    "    AND(False, True) # should return False\n",
    "    AND(False, False) # should return False\n",
    "    \n",
    "    # or operator:\n",
    "    OR(True, True) # should return True\n",
    "    OR(True, False) # should return True\n",
    "    OR(False, True) # should return True\n",
    "    OR(False, False) # should return False\n",
    "\n",
    "For the second problem, use the following to test your code:\n",
    "\n",
    "    factorial(3) # should return 6\n",
    "    factorial(4) # should return 24\n",
    "    factorial(5) # should return 120\n",
    "\n",
    "For the third problem, use the following to test your code:\n",
    "\n",
    "    count_both_ways('ab', 'when i am able, i will go back inside.') # should return 2\n",
    "    count_both_ways('aw', 'if a swatch of the paint was watery,  what does that say about the product?') # should return 3\n",
    "    count_both_ways('b', \"there's nothing to be afraid of but me.\") # should return 4\n",
    "    count_both_ways('xy', 'are you ready?') # should return 0\n",
    "    count_both_ways('ti', 'this is it!') # should return 1"
   ]
  }
 ],
 "metadata": {
  "kernelspec": {
   "display_name": "Python 3",
   "language": "python",
   "name": "python3"
  },
  "language_info": {
   "codemirror_mode": {
    "name": "ipython",
    "version": 3
   },
   "file_extension": ".py",
   "mimetype": "text/x-python",
   "name": "python",
   "nbconvert_exporter": "python",
   "pygments_lexer": "ipython3",
   "version": "3.7.0"
  }
 },
 "nbformat": 4,
 "nbformat_minor": 2
}
