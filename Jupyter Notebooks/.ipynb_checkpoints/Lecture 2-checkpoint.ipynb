{
 "cells": [
  {
   "cell_type": "markdown",
   "metadata": {},
   "source": [
    "# Foundations of Programming: Selection and Iteration"
   ]
  },
  {
   "cell_type": "markdown",
   "metadata": {},
   "source": [
    "This lecture has three parts. First, it reviews the main topics from before--variables and functions. Second, it goes over the *bool* type in preparation for what is to come. Third, it introduces selection through the *if*, *if … else*, and *if … elif … else* constructions. Fourth, it brings in the basics of iteration with while loops, the most basic form of iteration. Throughout the process, we will continue to discuss the *bool* (AKA Boolean) data type and some essential logical operators that relate to this type."
   ]
  },
  {
   "cell_type": "markdown",
   "metadata": {},
   "source": [
    "## Review"
   ]
  },
  {
   "cell_type": "markdown",
   "metadata": {},
   "source": [
    "Last time, we learned about the “nouns” and “verbs” of object-oriented languages: variables and functions. These are the two main topics of our review today.\n",
    "\n",
    "First, we need to store values and keep them around in order to use them as we want and to transform them over time. This is what variables are for. As we discussed, variables have six aspects, four of which we discussed: name, value, address, and type. In essence, these are:\n",
    "1. *Name:* the label which a value is assigned and which represents it throughout the program.\n",
    "2. *Value:* the actual item present in a memory location, present as bits.\n",
    "3. *Address:* the memory location which the variable keeps track of so as to access the value when required.\n",
    "4. *Type:* a set of defined values and actions which can be performed on those values."
   ]
  },
  {
   "cell_type": "code",
   "execution_count": 5,
   "metadata": {
    "hidePrompt": true
   },
   "outputs": [],
   "source": [
    "value_one = 10\n",
    "value_two = 5 + 5\n",
    "value_three = \"5 + 5\"\n",
    "# Error: value_four = value_one + value_three\n",
    "value_five = value_one + value_two\n",
    "value_five = value_five * value_five"
   ]
  },
  {
   "cell_type": "markdown",
   "metadata": {},
   "source": [
    "Let’s focus on the first variable, *value_one*. *value_one* is assigned to the value 10 as its label. Thus, 10 gains the name “value_one”. Innately, the value 10 has the type *int* or integer, which represents the set of all positive and negative whole numbers. The address is implicitly there--the value 10 must be placed somewhere in memory. \n",
    "\n",
    "The second variable, *value_two*, shows what amounts to the same thing but highlights a few key points. First, *value_two* reminds us that the right-hand side of an assignment is evaluated first. That is, 5 + 5 is performed before assignment occurs. Thus, 10 is the value of the variable value_two. The fives are added as integers because the + operator is a function that can be applied to the integer type. Furthermore, the 10 connected with value_two is different from the one in value_one--they are separate entities stored in separate memory locations.\n",
    "\n",
    "The third variable, *value_three*, performs assignment similarly to the previous two items except that it assigns a string to value_three: “5 + 5”. Because a string considers “5 + 5” as the characters 5, a space, +, a space, and another 5, no addition occurs; the string remains as it is and has the label *value_three*.\n",
    "\n",
    "The fourth variable, *value_four*, is not valid--it would throw an error. This is because the + operator, as a function, does not take an integer (*value_one*) and a string (*value_three*) together as operators. The operation, to Python, makes no sense--it doesn’t exist. \n",
    "\n",
    "The fifth variable, *value_five*, does essentially what value_two does. However, the extra step is that *value_one* and *value_two* must be retrieved from where they are in memory before they are used. On the next line, we see that *value_five* is used again. However, it is interestingly used to multiply itself by itself and store the result in itself. Because the right-hand side of an assignment is evaluated first, what would end up occurring would be that the *value_five* evaluated on the previous line would be retrieved twice. Then, the multiplication operation would be performed. Then, the value that *value_five* labels would be changed--in other words, we would lose the 20 that had been placed in value_five and we would replace it with 400, the result of 20 * 20. (Note: the use of a variable like this--using a variable with a value in the right-hand side and then assigning its altered value to itself--is a common and useful practice!)\n",
    "\n",
    "That sums up our discussion of variables from last time."
   ]
  },
  {
   "cell_type": "markdown",
   "metadata": {},
   "source": [
    "Next, let’s talk a little about the essentials of functions. As the actions of a program, functions are often categorized into two types: accessors and mutators. Accessors do not change the overall “state” of the program--instead, they simply tell us about data. Mutators, on the other hand, do change the “state” of the program. The basic idea, though, should be clear: when they’re done, accessors don’t change anything, whereas mutators do. \n",
    "\n",
    "With Python, we have many built-in functions for our disposal that we can already use. Examples of these are print() and input(). These take what is known as *arguments* and perform their actions based on those arguments. They may also have a *return value*--some value which is transferred back to the location at which the function was called. Certain functions can only be called on a value as a method of that value’s type; these are called through *dot notation*. Multiple functions can be called at once, as well. Let’s look at an example:"
   ]
  },
  {
   "cell_type": "code",
   "execution_count": 8,
   "metadata": {
    "hidePrompt": true
   },
   "outputs": [
    {
     "name": "stdout",
     "output_type": "stream",
     "text": [
      "HA!\n"
     ]
    }
   ],
   "source": [
    "def doAThing(thing):\n",
    "    return thing.strip().upper()\n",
    "\n",
    "# Variables outside the function are below:\n",
    "my_string: str = \"  ha!  \"\n",
    "my_new_string: str = doAThing(my_string)\n",
    "\n",
    "print(my_new_string)"
   ]
  },
  {
   "cell_type": "markdown",
   "metadata": {},
   "source": [
    "In the above, we define a function called *doAThing* that takes the parameter *thing*. In this function, we use dot notation to call .strip() and .upper() subsequently on the item *thing* once it is supplied. That is, *thing*.strip() evaluates first. Then, (*thing*.strip()).upper() is done. As we can see--and as we will commonly see--order matters! After the function definition, we have a comment that Python does not read. It is simply for our notes. The same can be said of the type annotation on the two variables. A value is labeled with my_string. Then, in the next line, the right-hand side (RHS) is evaluated first. my_string is passed as an argument to doAThing and is used as “thing” inside of the method. Then, “thing” is evaluated on the one line of the method and is returned. Finally, my_new_string is passed as an argument to the print() method and the phrase “LOL!” appears on the console.\n",
    "\n",
    "We’ve seen all this, but here’s one question: what would have happened if I had passed an integer to the function doAThing()? Would it have worked? The answer is no, because the writer of this method did not account for that--it implicitly assumes that the methods .strip() and .upper() are supported. In this case, the only type that we know of that fits that bill is a string, so giving an integer argument to the method would cause it to fail.\n",
    "\n",
    "With that said, that is the end of our review of last time."
   ]
  },
  {
   "cell_type": "markdown",
   "metadata": {},
   "source": [
    "## Booleans"
   ]
  },
  {
   "cell_type": "markdown",
   "metadata": {},
   "source": [
    "Thus far, we’ve more heavily delved into two types: integers (int) and strings (str). Of types that are paradigmatic to programming, these types are incredibly frequent and manifest themselves in this form or in variations. However, there is yet another type which fits this category: a Boolean, known in Python as a *bool*. This type is named after a mathematician who studied the logic of mathematics with two numbers--in other words, binary mathematics. In this world, “0” and “1” are the only choices for representation. It is the same for the Boolean type; however, we more commonly represent this type as a logical one consisting of True and False. For example:"
   ]
  },
  {
   "cell_type": "code",
   "execution_count": 9,
   "metadata": {
    "hidePrompt": true
   },
   "outputs": [],
   "source": [
    "is_a_variable: bool = True"
   ]
  },
  {
   "cell_type": "markdown",
   "metadata": {},
   "source": [
    "Note that the capitalization of True and False is important in Python--Python won’t see that what you’ve typed is a Boolean unless these words are capitalized. It’s very picky like that.\n",
    "\n",
    "Now, you might be wondering what these items are used for. There aren’t really any dot notation methods that work with Booleans. Certainly, we’re free to change Booleans from True to False and back, but where does that get us? It could serve as a form of notation, but that is a waste of memory when we could use comments. So, then, what are Booleans used for?\n",
    "\n",
    "Enter selection, iteration, and expressions."
   ]
  },
  {
   "cell_type": "markdown",
   "metadata": {},
   "source": [
    "## Selection"
   ]
  },
  {
   "cell_type": "markdown",
   "metadata": {},
   "source": [
    "In programming languages, selection refers to the concept of *choice*--actions are chosen based upon certain conditions. There are various manifestations of this choice syntactically, but they generally take the same form. This involves two general stages. The first *checks whether an action should be performed* or *which action should be performed*; the second *performs the action*. Python’s version of selection takes exactly one format, making it easy to use and to get used to. In full, this format can be displayed as follows:"
   ]
  },
  {
   "cell_type": "code",
   "execution_count": 1,
   "metadata": {
    "hideCode": true,
    "hideOutput": true,
    "hidePrompt": true,
    "tags": [
     "remove_cell"
    ]
   },
   "outputs": [],
   "source": [
    "def do_this():\n",
    "    pass\n",
    "\n",
    "def do_this_instead():\n",
    "    pass\n",
    "\n",
    "def do_this_if_all_else_fails():\n",
    "    pass\n",
    "\n",
    "expression_is_true = False\n",
    "other_expression_is_true = False"
   ]
  },
  {
   "cell_type": "code",
   "execution_count": 2,
   "metadata": {
    "hidePrompt": true
   },
   "outputs": [],
   "source": [
    "if(expression_is_true):\n",
    "    do_this()\n",
    "elif(other_expression_is_true):\n",
    "    do_this_instead()\n",
    "else:\n",
    "    do_this_if_all_else_fails()"
   ]
  },
  {
   "cell_type": "markdown",
   "metadata": {},
   "source": [
    "Let’s discuss this format and make a few clarifications about it. We’ll do so through a more coherent example:"
   ]
  },
  {
   "cell_type": "code",
   "execution_count": 5,
   "metadata": {
    "hidePrompt": true
   },
   "outputs": [
    {
     "name": "stdout",
     "output_type": "stream",
     "text": [
      "First option!\n"
     ]
    }
   ],
   "source": [
    "my_first_condition: bool = True\n",
    "my_second_condition: bool = True\n",
    "if(my_first_condition):\n",
    "    print(\"First option!\")\n",
    "elif(my_second_condition):\n",
    "    print(\"Second option!\")\n",
    "else:\n",
    "    print(\"My last option!\")"
   ]
  },
  {
   "cell_type": "markdown",
   "metadata": {},
   "source": [
    "Here, we set up two variables that are used in the selection statements. They are both initially true. When this code runs, the first two variables are assigned the Boolean true. Then, the condition hits. We hit the *if* statement, which evaluates first. Because my_first_condition is true, we go inside the *if* statement. We perform the action(s) inside the *if* statement; that is, “First option!” is printed. After that, the other statements in the selection are ignored. We do not check *elif* or *else*; they no longer matter to the program because if was evaluated. In other words, selection chooses one option and one option only in this case. For Python, in fact, this is always true--there is not an explicit form of multiple selection, where you could choose multiple options depending on the circumstances. Other languages do have this, but Python has chosen not to implement it because it can be done in other ways.\n",
    "\n",
    "Given what we just discussed, what do you think will happen if we run the code above with a slight change?"
   ]
  },
  {
   "cell_type": "code",
   "execution_count": 7,
   "metadata": {
    "hidePrompt": true
   },
   "outputs": [
    {
     "name": "stdout",
     "output_type": "stream",
     "text": [
      "Second option!\n"
     ]
    }
   ],
   "source": [
    "my_first_condition: bool = False\n",
    "my_second_condition: bool = True\n",
    "if(my_first_condition):\n",
    "    print(\"First option!\")\n",
    "elif(my_second_condition):\n",
    "    print(\"Second option!\")\n",
    "else:\n",
    "    print(\"My last option!\")"
   ]
  },
  {
   "cell_type": "markdown",
   "metadata": {},
   "source": [
    "The answer is simple. We proceed as before. However, when checking the if statement, we find my_first_condition to be false. Thus, we proceed to check the next condition--elif. This stands for “else if” and is simply a shortened syntactic form. (Note that, in Python, it is elif that is correct; you can do else if, but it is more syntactically complicated and less “Pythonic.”) Upon checking this condition, my_second_condition, the program chooses that option because the expression (my_second_condition) evaluates to true, that option’s actions are performed. Thus, “Second option!” is printed. Furthermore, nothing else happens.\n",
    "\n",
    "Finally, if both conditions are set to false:"
   ]
  },
  {
   "cell_type": "code",
   "execution_count": 10,
   "metadata": {
    "hidePrompt": true
   },
   "outputs": [
    {
     "name": "stdout",
     "output_type": "stream",
     "text": [
      "My last option!\n"
     ]
    }
   ],
   "source": [
    "my_first_condition: bool = False\n",
    "my_second_condition: bool = False\n",
    "if(my_first_condition):\n",
    "    print(\"First option!\")\n",
    "elif(my_second_condition):\n",
    "    print(\"Second option!\")\n",
    "else:\n",
    "    print(\"My last option!\")"
   ]
  },
  {
   "cell_type": "markdown",
   "metadata": {
    "hideOutput": false
   },
   "source": [
    "… the first two conditions are evaluated to false and are skipped and “My last option” is printed as a result. No condition needs to be evaluated; this action happens when no other does.\n",
    "\n",
    "This shows the construction of selection statements in Python. However, we have many variations on these statements. For example, we could add more *elif* statements--as many as we wanted--between the *if* and *else*. We do not need to include the *else*. We also do not need to include any *elif*s if we do not want to. In other words:"
   ]
  },
  {
   "cell_type": "code",
   "execution_count": 2,
   "metadata": {
    "hideCode": false,
    "hideOutput": true,
    "hidePrompt": true,
    "outputs_hidden": true,
    "source_hidden": true
   },
   "outputs": [],
   "source": [
    "def action():\n",
    "    pass\n",
    "\n",
    "def other_action():\n",
    "    pass\n",
    "\n",
    "def other_other_action():\n",
    "    pass\n",
    "\n",
    "def other_other_other_action():\n",
    "    pass\n",
    "\n",
    "condition: bool = True\n",
    "condition_2: bool = True\n",
    "condition_3: bool = True"
   ]
  },
  {
   "cell_type": "code",
   "execution_count": 14,
   "metadata": {
    "hidePrompt": true
   },
   "outputs": [],
   "source": [
    "if(condition):\n",
    "    action()\n",
    "\n",
    "if(condition):\n",
    "    action()\n",
    "else:\n",
    "    other_action()\n",
    "\n",
    "if(condition):\n",
    "    action()\n",
    "elif(condition_2):\n",
    "    other_action()\n",
    "\n",
    "if(condition):\n",
    "    action()\n",
    "elif(condition_2):\n",
    "    other_action()\n",
    "elif(condition_3):\n",
    "    other_other_action()\n",
    "\n",
    "if(condition):\n",
    "    action()\n",
    "elif(condition_2):\n",
    "    other_action()\n",
    "elif(condition_3):\n",
    "    other_other_action()\n",
    "else:\n",
    "    other_other_other_action()"
   ]
  },
  {
   "cell_type": "markdown",
   "metadata": {},
   "source": [
    "… are all valid forms of selection in Python. Such are the basics of selection. "
   ]
  },
  {
   "cell_type": "markdown",
   "metadata": {},
   "source": [
    "## Selection"
   ]
  },
  {
   "cell_type": "markdown",
   "metadata": {},
   "source": [
    "Selection is a powerful tool for programming--it allows for a program to adapt to various conditions. On the other hand, there’s no longevity to these conditions. Thus far, each run through the conditions must choose one condition and move on. What if we wanted to change some attribute and run over the conditions multiple times? How could we accomplish that?\n",
    "With selection alone, there is one possibility.\n",
    "\n",
    "Let’s say we have the following statements:"
   ]
  },
  {
   "cell_type": "code",
   "execution_count": 20,
   "metadata": {
    "hidePrompt": true
   },
   "outputs": [
    {
     "name": "stdout",
     "output_type": "stream",
     "text": [
      "We’re done!\n",
      "-----\n",
      "We’re too low!\n",
      "-----\n",
      "We’re too high!\n"
     ]
    }
   ],
   "source": [
    "def whenTen(number):\n",
    "    if(number == 10):\n",
    "        print(\"We’re done!\")\n",
    "    elif(number < 10):\n",
    "        print(\"We’re too low!\")\n",
    "        number = number + 1\n",
    "    else:\n",
    "        print(\"We’re too high!\")\n",
    "        number = number - 1\n",
    "\n",
    "whenTen(10)\n",
    "print(\"-----\")\n",
    "whenTen(9)\n",
    "print(\"-----\")\n",
    "whenTen(17)"
   ]
  },
  {
   "cell_type": "markdown",
   "metadata": {
    "hidePrompt": true
   },
   "source": [
    "Our function, whenTen(), takes an integer as an argument and is intended to make whatever number that goes into it become 10. It then prints that it has made the number 10 to the console. Otherwise, it prints that the number given as a parameter is too high or too low. But it doesn’t and *can’t* work as it is for all integers. If the number is less than 10 or greater than 10, even if we later number inside the conditions as shown above, we can’t get to 10 and cue the first condition because we can’t loop over the conditions over and over. Certainly, whenTen(10) will succeed, but the other two items will fail--they can’t get back to that first *if*. \n",
    "\n",
    "Now, we could do this:"
   ]
  },
  {
   "cell_type": "code",
   "execution_count": 22,
   "metadata": {
    "hidePrompt": true
   },
   "outputs": [
    {
     "name": "stdout",
     "output_type": "stream",
     "text": [
      "We’re done!\n",
      "-----\n",
      "We’re too low!\n",
      "We’re done!\n",
      "-----\n",
      "We’re too high!\n",
      "We’re too high!\n"
     ]
    }
   ],
   "source": [
    "def whenTen(number):\n",
    "    if(number == 10):\n",
    "        print(\"We’re done!\")\n",
    "    elif(number < 10):\n",
    "        print(\"We’re too low!\")\n",
    "        number = number + 1\n",
    "        if(number == 10):\n",
    "            print(\"We’re done!\")\n",
    "        elif(number < 10):\n",
    "            print(\"We’re too low!\")\n",
    "            number = number + 1\n",
    "        else:\n",
    "            print(\"We’re too high!\")\n",
    "            number = number - 1\n",
    "    else:\n",
    "        print(\"We’re too high!\")\n",
    "        number = number - 1\n",
    "        if(number == 10):\n",
    "            print(\"We’re done!\")\n",
    "        elif(number < 10):\n",
    "            print(\"We’re too low!\")\n",
    "            number = number + 1\n",
    "        else:\n",
    "            print(\"We’re too high!\")\n",
    "            number = number - 1\n",
    "\n",
    "whenTen(10)\n",
    "print(\"-----\")\n",
    "whenTen(9)\n",
    "print(\"-----\")\n",
    "whenTen(17)"
   ]
  },
  {
   "cell_type": "markdown",
   "metadata": {},
   "source": [
    "… but this code is unnecessarily long and repetitive; furthermore, it only works for one two iterations. whenTen(9) would now work as intended, but whenTen(17) would still fail. We don’t want to keep repeating the same code over and over and over; thus, we use iteration instead. The most basic--and most controlled--form of iteration is the *while* loop. Syntactically, it is as follows:"
   ]
  },
  {
   "cell_type": "code",
   "execution_count": null,
   "metadata": {
    "hidePrompt": true
   },
   "outputs": [],
   "source": [
    "while (condition):\n",
    "    action()"
   ]
  },
  {
   "cell_type": "markdown",
   "metadata": {},
   "source": [
    "Seems pretty simple, right? Certainly, it can be--however, just like any programming construct, it could be made into something complex depending on how it is used. Let’s fix the above code with the while loop to show it in action."
   ]
  },
  {
   "cell_type": "code",
   "execution_count": 1,
   "metadata": {
    "hidePrompt": true
   },
   "outputs": [],
   "source": [
    "def whenTen(number):\n",
    "    while(number != 10):\n",
    "        if (number < 10):\n",
    "            print(\"We’re too low!\")\n",
    "            number = number + 1\n",
    "        else:\n",
    "            print(\"We’re too high!\")\n",
    "            number = number - 1\n",
    "        print(\"Loop’s ended.\")\n",
    "    print(\"We're done!\")"
   ]
  },
  {
   "cell_type": "markdown",
   "metadata": {},
   "source": [
    "A *while* loop works simply. When the code, in its process, hits the *while* statement, it evaluates the *condition* given in parentheses. When the number is not equal to 10, the program performs the actions inside the loop. It repeatedly checks the selection over and over, adding or subtracting when relevant, until number equals 10. Once this is the case and the program returns to the *while* statement to evaluate the condition, the loop ends and actions after the loop are performed. In other words, as it uses the loop, the program will eventually set number to 10. However, it will not end right when that happens. Rather, the print statement at the bottom of the loop will be triggered. Then, the loop will return to the top and checks whether a new iteration should be started. Since 10 *is* equal to 10, the condition is false and the loop concludes. Then, the actions outside the loop are performed--that is, in this case, the final print statement."
   ]
  },
  {
   "cell_type": "markdown",
   "metadata": {},
   "source": [
    "## Conclusion"
   ]
  },
  {
   "cell_type": "markdown",
   "metadata": {},
   "source": [
    "Selection and iteration are simple concepts that can be used in complex ways. What I have given so far is an introduction. But I have also shown some additional complexity with which they can be used. While Booleans could be used as conditions (e.g. as a “switch” that one sets to True or False depending on the desired outcome), expressions that are evaluated could also work. Mathematical expressions are often used for this purpose. For example, the “==” and “!=” were used to represent *equals* and *not equals* for integer expressions. This is contrary to what we might think mathematically; however, note that the “=” symbol is already taken up by assignment. We cannot use it in two different ways and expect the computer to just know which is used. Thus, the double equal sign is used for equality and the exclamation point with the equal sign is used for inequality. Note further that the exclamation point is a common logical operator meaning “NOT”--so, if you see it elsewhere, know that that is likely what it indicates!\n",
    "\n",
    "We’re getting closer to being able to tackle more interesting projects! However, we should take some time to cement these pivotal constructs of programming. See the assignments below for some examples."
   ]
  },
  {
   "cell_type": "markdown",
   "metadata": {},
   "source": [
    "## Assignments"
   ]
  },
  {
   "cell_type": "markdown",
   "metadata": {},
   "source": [
    "1. Basics: As before, let’s start with some simple tasks to get you started on understanding today’s lessons. This time, you’ll be building a function that serves as a multiple-choice question poll. Let’s get started.\n",
    "    1. Define a function called *poll* with two parameters: *question* and *answer_one*. For now, have this function print each value separately in the body of the function. Be sure to test this once with each of these items as a string.\n",
    "    2. After these print statements, set up an assignment statement between a variable *poll_response* and input(). Also, set up a variable called *a1_count* assign 0 to it. Then, set up a condition in which if poll_response equals *answer_one*, then *a1_count* is increased by 1. Afterward, print a line saying “Poll results:” and, subsequently, print a line having *answer_one*, a colon, a space, and *a1_count* present in that order.\n",
    "        1. **Note 1:** Thankfully, “==” works for both integers and strings! Based on the types that the “==” operator is being used with, Python knows how to discern equality. (e.g.: “string” == “string” would evaluate to True, whereas “foo” == “notfoo” would evaluate to False)\n",
    "        2. **Note 2:** In order to concatenate *a1_count* in that last print line, you’ll need to use the str() function. Use it by giving *a1_count* as an argument to str(). This function converts the argument given into a string, if possible.\n",
    "    3. Add an *else* clause that prints a message stating that the given input did not match any of the given answers. Be sure to test it, as with part (b)!\n",
    "    4. Let’s add some more options. This has a few separate but related steps:\n",
    "        1. Add three parameters to poll: *answer_two*, *answer_three*, and *answer_four*. \n",
    "        2. Similarly, add *a2_count*, *a3_count*, and *a4_count*. \n",
    "        3. Set up *elif* statements to accommodate for these new answer possibilities in a similar way to *answer_one* and *a1_count*. \n",
    "        4. Add the three new answers and the three new counts to the poll results.\n",
    "    5. What’s the fun of a poll when you can only get up to one result every time? This step will incorporate iteration into your function.\n",
    "        1. Create a variable called *loop_condition* and set it initially to True. Use it as your condition for the *while* loop. Place it before your declaration of *poll_response*.\n",
    "        2. After where you’ve defined your variables and before your conditions, establish a while loop that contains those selection statements and *poll_response*. Be sure to adjust the tabs accordingly--you want to be sure to establish that your conditions are inside the while loop. You also don’t want to reset variables inside the loop by accident; remember that actions inside a loop are done upon every iteration.\n",
    "        3. Set it up so that *loop_condition* changes to false when a valid input has been given--that is, when *poll_response* equals one of the answers. \n",
    "    6. This is the last step! You’ve got a poll for one person going; however, what if you wanted multiple users to poll in? Let’s simulate that.\n",
    "        1. Add a new parameter called *num_pollers*. Similarly, remove your use of the *loop_condition*, as you are replacing it with a Boolean expression--an expression that evaluates to True or False.\n",
    "        2. Set your while condition to check that *num_pollers* is greater than zero. The greater than sign is what you’d expect: “>”.\n",
    "        3. The behavior you want is to have the program move on to the next “poller” when the current “poller” has given a valid response. How do you think that you could implement this with your given condition? Hint: you’ll have to think similarly to how you did the *loop_condition* before in Part 3 of the previous step.\n",
    "        4. As a final test, run the following code:\n",
    "            1. poll(\"How many errors did you get while writing this code?\", \"None\", \"Few\", \"Many\", \"Too Many\", 5)\n",
    "                1. Answer with each option once and any of your choice twice. Be sure to also give an invalid answer at least once to assure that you still input five answers and that the invalid answer is handled appropriately. Your output should reflect your inputs.\n",
    "                \n",
    "             \n",
    "2. Start Menu: Games, just like anything else, are programs. For any game to run, it’s got to have some kind of iteration--it has to keep running perpetually until some condition causes it to stop (e.g. the user turns it off). We’re going to take our first step toward understanding game and other general programming with a text-based start menu. This project will be slightly more free-form and will give much less guidance than the previous task. \n",
    "    1. To create this menu, fulfill the following requirements:\n",
    "        1. Use a *while* loop that takes in input on each loop for some action to be performed and appropriately notifies the user when they have put in invalid input.\n",
    "        2. On each loop, print some dialogue or text that indicates that the user is on the Main Menu.\n",
    "        3. Create a ‘quit’ input that ends the loop and concludes the program.\n",
    "        4. Create a ‘help’ input that tells the user what commands are available and, optionally, what they do. Call a separate function to print help-related statements.\n",
    "        5. Create an ‘options’ input that has its own selection inside of it and waits for input on those options; similarly to the Main Menu, print for each iteration that the user is on this menu. Note that these options do not have to do anything; merely having a print statement to say that something is done suffices.\n",
    "        6. Create some string keyword input that alters the Main Menu in some way; it could change the text, for example. Make it so that the Main Menu can be returned to its original state through the same process.\n",
    "            1. Feel free to make use of the string functions you saw in Lecture 1 for this step.\n",
    "\n",
    "\n",
    "3. Challenge: For whenTen(), I showed that a *while* loop could be used to solve its problem. Given the requirements (and read them carefully), however, there are two other ways in which whenTen() could be written without a *while* loop or other forms of iteration. I don’t expect you to get one of them, as it involves a concept you haven’t learned (although, you’ve learned all the necessary syntax to write it); however, the other simply involves a logical trick. See if you can do it!"
   ]
  }
 ],
 "metadata": {
  "kernelspec": {
   "display_name": "Python 3",
   "language": "python",
   "name": "python3"
  },
  "language_info": {
   "codemirror_mode": {
    "name": "ipython",
    "version": 3
   },
   "file_extension": ".py",
   "mimetype": "text/x-python",
   "name": "python",
   "nbconvert_exporter": "python",
   "pygments_lexer": "ipython3",
   "version": "3.7.0"
  }
 },
 "nbformat": 4,
 "nbformat_minor": 2
}
