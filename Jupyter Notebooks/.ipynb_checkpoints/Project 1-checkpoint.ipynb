{
 "cells": [
  {
   "cell_type": "markdown",
   "metadata": {
    "hideCode": true,
    "hidePrompt": true
   },
   "source": [
    "# Project 1: Quantified Magic"
   ]
  },
  {
   "cell_type": "markdown",
   "metadata": {
    "hideCode": true,
    "hidePrompt": true
   },
   "source": [
    "In this project, we'll be putting together a number-guessing game. We'll be doing two versions of this game--one in which the user inputs the number which they want to guess and one in which said number is randomized. Furthermore, we'll be creating a menu in which both of these programs can be accessed.\n",
    "\n",
    "In this short discussion, we'll be going over some general notions of how to handle creating a large project. We'll introduce some basic debugging and testing strategies so as to get rid of errors in your program. We will also mention an external library, *random*, and a function from it that will be useful for your program: *randint()*."
   ]
  },
  {
   "cell_type": "markdown",
   "metadata": {
    "hideCode": true,
    "hidePrompt": true
   },
   "source": [
    "## Project Approaches"
   ]
  },
  {
   "cell_type": "markdown",
   "metadata": {},
   "source": [
    "When tackling a larger project, we often want to tackle it with a certain methodology in mind. We don't want to wander around blindly and get disorganized; after all, this could cause us more harm than good if we get lost in our own code and have to deal with an excessive amount of bugs. Here, we will introduce two basic ways of thinking which may help you in beginning to code larger projects.\n",
    "\n",
    "The first method is called **top-down design**. It begins on the abstract level, considering the larger structures with which the program needs to run before the nitty-gritty base components. It requires planning in order to be done correctly, as it has to progress from the abstract to the concrete in a structured and organized manner. However, this method assures that all components in the program are constructed to do what the abstract version of the program is intended to do. On the other hand, it can restrict testing; if the abstract version of the program is prioritized, then one must wait until the concrete parts of the program are in place to deeply examine the program's capabilities.\n",
    "\n",
    "Turning the first method around, the second method is called **bottom-up design**. It starts on the concrete level and proceeds to the abstract intention of the program. Unlike top-down design, this method allows for testing immediately. The base components must be built first to put the more abstract components in place. However, while this approach requires less forethought and planning, it can veer off course if the concrete base components do not align well with what the abstract level truly needed.\n",
    "\n",
    "Since our project is small, you can use either of these strategies in order to proceed. It is unlikely that you will get completely bewildered and list in your code, as it will not likely exceed 150 lines. If you perform top-down design, you might start by planning out all of the methods that you need for the program and the functionality that it should have. Meanwhile, if you do bottom-up design, you might start by implementing menu and input functions. You might also distinctly implement the two guessing games. Finally, you would combine them to construct the whole of the system."
   ]
  },
  {
   "cell_type": "markdown",
   "metadata": {},
   "source": [
    "## Debugging: A Basic Strategy"
   ]
  },
  {
   "cell_type": "markdown",
   "metadata": {},
   "source": [
    "Once you have constructed your code, you'll want to test it out. Inevitably, it will have errors. However, you might not understand where these errors are. Here, we'll discuss a simple strategy that allows you to have full control of the debugging process without going into too much detail about debugging tools in our IDE. To do this, we can use print statements. Say we had the following code:"
   ]
  },
  {
   "cell_type": "code",
   "execution_count": 1,
   "metadata": {},
   "outputs": [],
   "source": [
    "# This function returns True if string is both lowercase and consists only of alphabetical characters.\n",
    "# Otherwise, it returns false.\n",
    "def my_accessor_function(string):\n",
    "    return (string.islower() and string.isalpha())\n",
    "\n",
    "# This is the function in my code that I wnat to perform the main tasks of my program.\n",
    "def my_main_function():\n",
    "    user_input = input(\">> \")\n",
    "    if my_accessor_function(user_input):\n",
    "        print(\"We got here!\")\n",
    "        # other actions...\n",
    "    else:\n",
    "        print(\"Instead, we got here!\")\n",
    "        # other actions..."
   ]
  },
  {
   "cell_type": "markdown",
   "metadata": {},
   "source": [
    "Let's also say that we just created the code for *my_accessor_function()*. We want to know whether it works. However, if the other actions inside the *if* and *else* statements of *my_main_function()* don't perform any visible actions (e.g. they don't print anything themselves or cause a change in something that will be printed), then it is difficult to tell whether our accessor function worked. Adding print statements allows us to track the program's **control flow**--in other words, the general \"path\" of the program in its execution. The only issue with using print statements is that we have to keep track of them so that we can remove them later. It is often better to add and remove them as needed; this prevents us from forgetting about print statements and leaving them in the code, causing unintended behavior to occur on occasion."
   ]
  },
  {
   "cell_type": "markdown",
   "metadata": {},
   "source": [
    "## Testing: Introductory Tips"
   ]
  },
  {
   "cell_type": "markdown",
   "metadata": {},
   "source": [
    "While we have talked about getting the bugs out of your code, we haven't talked about how one might go about testing the code. We won't get into the technical details or introduce full methdologies like in the Project Approaches section, but we will briefly mention the way in which you ought to think about testing. For each function, there are various sets of inputs and outputs that you can expect. On this basis, you can divide these inputs and outputs into distinct groups of items to test for. In other words, if your determinations about these sets are correct, then testing any one item in these sets will count for testing all of them. \n",
    "\n",
    "For example, if you were testing a program that converted a time in non-military time to military time, you might test times in the first twelve hours, in the second twelve hours, and innappropriate temporal values (e.g. times that don't make sense at all in non-military time, such as 13:00 P.M. or -1:00 A.M., or non-time values like 42 and \"this isn't a time\").\n",
    "\n",
    "As a last tip, be sure to check extrema--that is, those numbers or other values at the limits of your program. Zero, one, and the upper limit are often good choices of numerical values for testing. If these values work, it is likely that the ones in between also do (given that no further dividing sets exist)."
   ]
  },
  {
   "cell_type": "markdown",
   "metadata": {},
   "source": [
    "## Introduction to Libraries: Random"
   ]
  },
  {
   "cell_type": "markdown",
   "metadata": {},
   "source": [
    "We have mentioned in a previous lesson that not all code we use will come from Python's built-in functions. Nor do we want to write every inch of our code all the time. Thus, we have methods in programming languages to draw in bodies of code from external sources that can be immediately applied. The simplest way of doing so in Python is with the *import* keyword. For example, we could say:"
   ]
  },
  {
   "cell_type": "code",
   "execution_count": 2,
   "metadata": {},
   "outputs": [],
   "source": [
    "import random"
   ]
  },
  {
   "cell_type": "markdown",
   "metadata": {},
   "source": [
    "... and, suddenly, we can use the *random* library in our code--that is, we have access to all of the functions defined inside another group of files of code. If we did not have this statement, then we would not have access to the code inside *random*. With certain libraries that Python provides for us as optional, we can simply name them after *import* in order to bring them in. In other cases, we may have to download other libraries manually in order to make our *import* statements functional and meaningful.\n",
    "\n",
    "Now that we've brought in the *random* library, let's use it. We'll show the use of the function that will be useful for this project, *randint()*. This function takes *two* parameters: a lower limit and an upper limit. These determine the limits of the randomization (in which the limits themselves are included as results of the randomization). We give an example of its use below:"
   ]
  },
  {
   "cell_type": "code",
   "execution_count": 5,
   "metadata": {},
   "outputs": [
    {
     "name": "stdout",
     "output_type": "stream",
     "text": [
      "885\n",
      "482\n",
      "621\n"
     ]
    }
   ],
   "source": [
    "# Example of the use of the Random library:\n",
    "lower_limit = 0\n",
    "upper_limit = 1000\n",
    "print(random.randint(lower_limit, upper_limit))\n",
    "print(random.randint(lower_limit, upper_limit))\n",
    "print(random.randint(lower_limit, upper_limit))"
   ]
  },
  {
   "cell_type": "markdown",
   "metadata": {},
   "source": [
    "Notice that we had to use dot notation to show that we are calling a function in that library. This is true of importing basic libraries as we did above; the program must know where we are getting the function from if it is not within our file or within Python's built-in functions."
   ]
  },
  {
   "cell_type": "markdown",
   "metadata": {},
   "source": [
    "## Conclusion"
   ]
  },
  {
   "cell_type": "markdown",
   "metadata": {},
   "source": [
    "With that explained, we have touched on everything that you will need to move forward on this project. Below, I have provided a suggested workflow for the project. You do not have to follow this workflow exactly; feel free to use either of the design methods stated above. However, the below should give you a good view to all the requirements of the project. Furthermore, I have submitted a completed version of the project for your use. I would recommend *not* looking at the code. However, feel free to play the game in order to visualize the flow of how it works in my example. Feel free to add your own additions and creativity as you wish--there are many ways to accomplish the same goals and there are many tasks that code can accomplish.\n",
    "\n",
    "I wish you the best of luck!"
   ]
  },
  {
   "cell_type": "markdown",
   "metadata": {
    "hideCode": true,
    "hidePrompt": true
   },
   "source": [
    "## Suggested Project Progression"
   ]
  },
  {
   "cell_type": "markdown",
   "metadata": {
    "hideCode": true,
    "hidePrompt": true
   },
   "source": [
    "1. Set up a main menu. This is the only method that you should call when your program starts. It should:\n",
    "    1. ... start and enter an iteration to show that the program is still going. \n",
    "    2. ... give an introduction to the program.\n",
    "    3. ... accept input from the user to access other commands in the program.\n",
    "        1. Optionally, this input can be trimmed down to a certain format so as to maximize the number of inputs that might match a command for a given condition. \n",
    "    4. ... allow the user to quit the program. This should, in other words, let the user escape from the iteration and exit the program without manually shutting down the console and closing the session.\n",
    "    5. ... allow the user to indicate that they want to play one of the games.\n",
    "    6. ... allow the user to request that available commands be explained to them (e.g. a 'help' option).\n",
    "2. Set up the number-guessing game in which the number to-be-guessed is known. It should:\n",
    "    1. ... start and enter an iteration for the game.\n",
    "    2. ... allow the user to input a number that will be used as the target number for the program.\n",
    "    3. ... start the game and allow the user to input numbers to guess.\n",
    "    4. ... indicate whether an incorrect guess is too high, too low, or is invalid (e.g. is not a number or is a negative number).\n",
    "    5. ... indicate that a correct guess *is* correct and end the game, sending the user back to the main menu.\n",
    "3. Set up the number-guessing game in which the number to-be-guessed is unknown. It should:\n",
    "    1. ... do just what the other game does with the following differences:\n",
    "        1. ... instead of giving the seek value, the upper limit value for the random number is what the user should give.\n",
    "        2. ... should randomize the number using the above value as the upper limit and the random.randint() function from the random library."
   ]
  }
 ],
 "metadata": {
  "hide_code_all_hidden": true,
  "kernelspec": {
   "display_name": "Python 3",
   "language": "python",
   "name": "python3"
  },
  "language_info": {
   "codemirror_mode": {
    "name": "ipython",
    "version": 3
   },
   "file_extension": ".py",
   "mimetype": "text/x-python",
   "name": "python",
   "nbconvert_exporter": "python",
   "pygments_lexer": "ipython3",
   "version": "3.7.0"
  }
 },
 "nbformat": 4,
 "nbformat_minor": 2
}
