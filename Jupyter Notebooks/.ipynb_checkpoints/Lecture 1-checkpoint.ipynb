{
 "cells": [
  {
   "cell_type": "markdown",
   "metadata": {},
   "source": [
    "# Introduction"
   ]
  },
  {
   "cell_type": "markdown",
   "metadata": {},
   "source": [
    "This lecture has two major sections. The first is meant to get the students’ machines set up to run Python and to code. The second gets into the basics of programming languages and mentions the building blocks of language."
   ]
  },
  {
   "cell_type": "markdown",
   "metadata": {},
   "source": [
    "## Preface"
   ]
  },
  {
   "cell_type": "markdown",
   "metadata": {},
   "source": [
    "What is a **programming language**?\n",
    "- **Definition:** \"notation for expression sequences of operations for a computer, translated ultimately into bits to be loaded into RAM\" (Kernighan 231).\n",
    "\n",
    "We work with **higher-level** programming languages. These are languages that are easier for human beings to read and write. These must be translated by some means into **lower-level** programming languages, which the computer can translate into binary code and can work with. This translation is done by various means; however, usually, a **compiler** or **interpreter** is used. For now, the differences between these are not important. However, if we are to use Python, we need to make sure that the computer can read it. It doesn’t automatically \"know\" what Python is.\n",
    "\n",
    "Furthermore, we don’t want to code everything manually. There are a lot of easy mistakes to make--typos can be rampant! Thus, we use an IDE, or an **Integrated Development Environment**, to more rigorously catch errors, conveniently code our programs, and test them automatically.\n",
    "\n",
    "For us, all of this means that we need to get an interpreter and an IDE onto our computers. Furthermore, we have to make sure that the IDE knows about the interpreter."
   ]
  },
  {
   "cell_type": "markdown",
   "metadata": {},
   "source": [
    "## Section 1: Setting Up Python and PyCharm"
   ]
  },
  {
   "cell_type": "markdown",
   "metadata": {},
   "source": [
    "First, we need to get Python set up. Thankfully, this is pretty simple! Go to [this website](https://www.python.org/https://www.python.org/). Once there, select \"Downloads.\" Under this menu, choose the latest version of Python (at the time of writing, 3.7.3). Scroll down to the bottom of this page and choose the installer as you wish. I recommend the executable, as it is likely the most familiar to you in terms of installation. Run the executable. Choose to install everything--you don’t need to customize the installation at all. Let the installer take its course.\n",
    "\n",
    "Next, you will need to install the PyCharm IDE. There are other IDEs out there and you may try them if you wish, but I have found PyCharm to be useful. Go to [this webpage](https://www.jetbrains.com/pycharm/). Once there, select \"Download Now.\" Choose the Community option and download the program. Note that you could also download the Toolbox App for JetBrains, the company that makes PyCharm, so as to automatically get updates for PyCharm. I do recommend it, but it’s not required in any way. PyCharm’s installation instructions have been detailed greatly [here](https://www.jetbrains.com/help/pycharm/installation-guide.html?section=Windows#windows) and on the installation wizard, so I will not repeat them or explain them unless there are any requests for it or questions about them.\n",
    "\n",
    "Once both of these pieces are installed, they must be put them together. To do this, you will need to make an environment variable on your computer. An environment variable is a certain kind of variable holding a path. Because this variable holds the *path*, it allows any program that knows of the variable to access that path, go to what is held at the end of that path, and use the resources held there. We haven’t formally defined or discussed variables or environments, so if that does not make sense, that is fine! But we still have to set it up.\n",
    "\n",
    "This explanation will assume that you are using Windows 10. First, open your File Explorer (the folder tab on your computer). Go to \"View\" on the upper-left-hand corner and check the \"Hidden Item\" box on that tab. Then, go to the folders on the left side and select \"This PC.\" Go to the drive on which you just installed Python (if you aren’t sure, guess the C: drive). Go to Users. Go to your account. Go to AppData. Then, proceed to Local. After that, select Programs. Then, click Python. Go to the folder inside of that one.\n",
    "\n",
    "Next, move this tab to the side and go to your start bar. Search \"environment variables.\" You should see a tab saying \"Edit the system environment variables.\" Select this. Select \"Environment Variables.\" Then, select the Path variable. Simply double-click the right side. Then, go back to the tab you set beside. Click in the right side of the folder’s path and copy it. Paste this into the Path. Then, you have to do one more thing! Go back to the tab with the path you copied and go into the Scripts folder. Copy this item into the Path environment variable list, as well. Place it above the item you just placed by putting the new path into the menu and clicking \"move up\" until said line is above the initial one inserted.\n",
    "\n",
    "Click \"OK\" on all the menus concerning paths and exit out of those. Keep hold of the Python folders. Open PyCharm. When prompted, don’t import any settings (as you don’t have any to import). Select settings that you want; if you don’t know what you are doing with a setting, don’t mess with it. Create a project. Under \"New environment using: …\" leave virtualenv there, but go down to \"Base interpreter.\" Back on the folder you’ve been holding onto, paste the path where python.exe is located (it should just be a program called \"python\") into the box. Add a \"\\python.exe\" at the end.\n",
    "\n",
    "Lastly, at the top of the PyCharm screen, feel free to change the \"untitled\" item in the path to whatever you want to call the project. Then, click \"Create\" and let PyCharm do its magic. If all works, you’re done!\n",
    "\n",
    "If you want to do a class test to be sure that PyCharm works property, type:"
   ]
  },
  {
   "cell_type": "code",
   "execution_count": 41,
   "metadata": {},
   "outputs": [
    {
     "name": "stdout",
     "output_type": "stream",
     "text": [
      "Hello World!\n"
     ]
    }
   ],
   "source": [
    "print(\"Hello World!\")"
   ]
  },
  {
   "cell_type": "markdown",
   "metadata": {},
   "source": [
    "… into the empty space on the right side. Then, right click and select to Run your program. If you see \"Hello World\" pop up in a new lower box (the console), you’ve been successful at setting up Python and PyCharm!"
   ]
  },
  {
   "cell_type": "markdown",
   "metadata": {},
   "source": [
    "## Section 2: The Building Blocks of Programming"
   ]
  },
  {
   "cell_type": "markdown",
   "metadata": {},
   "source": [
    "There are different *kinds* of programming languages--object-oriented, functional, and logical, to name a few. Python is an object-oriented language with functional elements, so we will learn about these portions as they come.\n",
    "\n",
    "One of the most fundamental building-blocks of an object-oriented programming language is a *variable*. A **variable** is \"an abstraction of a computer memory cell or collection of cells\" (Sebesta 200). Every variable has a **name**, **address**, **type**, **value**, **lifetime**, and **scope**. For now, we’ll ignore the last two attributes. Let’s look at an example:"
   ]
  },
  {
   "cell_type": "code",
   "execution_count": 42,
   "metadata": {},
   "outputs": [],
   "source": [
    "count: int = 10"
   ]
  },
  {
   "cell_type": "markdown",
   "metadata": {},
   "source": [
    "In this example, we can find the four relevant attributes mentioned. First, the name of the variable is denoted on the left-hand side of this *assignment*. (We'll define this kind of statement in a moment.) It is \"count.\" Note that this \"assignment\" follows mathematical function notation. You may have seen before an equation such as f(x) = x, where, depending on the value of x, a value is calculated for f(x). You can think of the value \"10\" as being *mapped* to the label \"count.\" The name \"count\" holds the value \"10.\" It does so not by holding the value directly, though; rather, it holds an *address* that the program knows it can use to access the value. This address refers to a location in memory (i.e. RAM or on the hard drive). Finally, the item \"int\" refers to the *type* of the variable *count*. A data type \"defines a collection of data values and a set of predefined operations on those values\" (Sebesta 236). The type \"int\" refers to the set of **integers**--positive and negative whole numbers (e.g. …, -3, -2, -1, 0, 1, 2, 3, …)--and the operations one can perform on them, such as integer addition and subtraction. Another type is \"str\" or a **string**, which is simply a collection of characters. Unlike an integer, which can just be typed out as \"10\" is above, a string requires quotation marks (e.g. \"10\" with quotes would be a string; another example would be \"Hello World!\")."
   ]
  },
  {
   "cell_type": "markdown",
   "metadata": {},
   "source": [
    "In the above example, one should note that we used a colon after the name *count* to denote the type. However, we could have also written this:"
   ]
  },
  {
   "cell_type": "code",
   "execution_count": 43,
   "metadata": {},
   "outputs": [],
   "source": [
    "count = 10"
   ]
  },
  {
   "cell_type": "markdown",
   "metadata": {},
   "source": [
    "… as perfectly legal Python code. In other words, we do not have to denote the type of a variable in our code. This is because Python uses **dynamic typing**; that is, type is determined only when the program runs. The first line of code does not tell Python what type the variable is. Rather, it is a **type annotation** that can remind the programmer of what type the variable is supposed to be and may work with the IDE to provide some extra help in checking for errors. Feel free to use either format!\n",
    "\n",
    "Of course, variables aren’t our only tool. We also have **functions**--they are the items that actually perform actions in our program. They are usually classified as **accessors** or **mutators**. Accessors simply get data and do not alter it in any way (or, at least, restore it to its former state in the process if they must alter it). Mutators take data and change it in some way. Both of these can be defined in the same way and, in Python, indentation is used to show what lines are inside of a function. Here is an example:"
   ]
  },
  {
   "cell_type": "code",
   "execution_count": 44,
   "metadata": {},
   "outputs": [],
   "source": [
    "def greeting():\n",
    "    print(\"Hello!\")"
   ]
  },
  {
   "cell_type": "markdown",
   "metadata": {},
   "source": [
    "If we were to call this function with the following code:"
   ]
  },
  {
   "cell_type": "code",
   "execution_count": 45,
   "metadata": {},
   "outputs": [
    {
     "name": "stdout",
     "output_type": "stream",
     "text": [
      "Hello!\n"
     ]
    }
   ],
   "source": [
    "greeting()"
   ]
  },
  {
   "cell_type": "markdown",
   "metadata": {},
   "source": [
    "… the phrase \"Hello!\" appears in the console. If we did this:"
   ]
  },
  {
   "cell_type": "code",
   "execution_count": 46,
   "metadata": {},
   "outputs": [
    {
     "name": "stdout",
     "output_type": "stream",
     "text": [
      "Hello!\n",
      "Hello!\n",
      "Hello!\n"
     ]
    }
   ],
   "source": [
    "greeting()\n",
    "greeting()\n",
    "greeting()"
   ]
  },
  {
   "cell_type": "markdown",
   "metadata": {},
   "source": [
    "The phrase \"Hello!\" appears three times on three different lines for the three different calls to the same function. We can do this because of the function *print()*, which is a built-in function. In other words, it is automatically provided to us by Python. It is an output function; the corresponding input function would be input(). For example, we could write:"
   ]
  },
  {
   "cell_type": "code",
   "execution_count": 47,
   "metadata": {},
   "outputs": [],
   "source": [
    "def personalizedGreeting():\n",
    "    print(\"Hello! What is your name?\")\n",
    "    given_name: str = input(\">> \")\n",
    "    print(\"Hello, \" + given_name + \"!\")"
   ]
  },
  {
   "cell_type": "markdown",
   "metadata": {},
   "source": [
    "Say that I called this function. Then, the following would pop up:"
   ]
  },
  {
   "cell_type": "markdown",
   "metadata": {},
   "source": [
    "Hello! What is your name?\n",
    "\n",
    "\\>> |"
   ]
  },
  {
   "cell_type": "markdown",
   "metadata": {},
   "source": [
    "... where the \"|\" stands for the type cursor. The program would await my input on the second line. Once I press enter to confirm my submission, the program moves on. It will not move on until then. So, say I input \"Stephen\". Then, the program would output:"
   ]
  },
  {
   "cell_type": "markdown",
   "metadata": {},
   "source": [
    "Hello! What is your name?\n",
    "\n",
    "\\>> Stephen\n",
    "\n",
    "Hello, Stephen!"
   ]
  },
  {
   "cell_type": "markdown",
   "metadata": {},
   "source": [
    "To clarify, the program would not output these three phrases and duplicate the ones listed initially. Rather, it would accept my input on the second line and print the third line based upon my input in the second line. Equally, if I had done this:"
   ]
  },
  {
   "cell_type": "markdown",
   "metadata": {},
   "source": [
    "Hello! What is your name?\n",
    "\n",
    "\\>> 27"
   ]
  },
  {
   "cell_type": "markdown",
   "metadata": {},
   "source": [
    "Then, the program would have added as the third line:"
   ]
  },
  {
   "cell_type": "markdown",
   "metadata": {},
   "source": [
    "Hello, 27!"
   ]
  },
  {
   "cell_type": "markdown",
   "metadata": {},
   "source": [
    "Note that, in this situation, \"27\" is not interpreted as an *integer*, as we might expect. Rather, it is interpreted as a *string*. This is because the method input() always returns a string. That is, the item \"27\" inputted was never an integer in type--it was always a string. A string refers more to the *characters* that the numbers typographically represent, whereas an integer considers the *values* that the numbers mathematically symbolize. \n",
    "\n",
    "One last piece of information I have yet to point out here is the use of the \"+\" symbol above. Normally, the \"+\" is used in mathematical expressions. As one would expect, if I did the following code:"
   ]
  },
  {
   "cell_type": "code",
   "execution_count": 48,
   "metadata": {},
   "outputs": [],
   "source": [
    "eight: int = 3 + 5"
   ]
  },
  {
   "cell_type": "markdown",
   "metadata": {},
   "source": [
    "… the value 8, an integer, would be \"stored\" in the variable named *eight*. However, programming languages often use these operators (i.e. +, -, and others) in different ways. For strings, \"+\" is often used for **concatenation**. Concatenation simply binds strings together. It makes distinct string objects into one string. Here’s another example of this:"
   ]
  },
  {
   "cell_type": "code",
   "execution_count": 49,
   "metadata": {},
   "outputs": [],
   "source": [
    "compound_word: str = \"book\" + \"shelf\""
   ]
  },
  {
   "cell_type": "markdown",
   "metadata": {},
   "source": [
    "As you might expect, the variable *compound_word* holds the memory address for the string \"bookshelf\". You might also notice that, in this line, the **right-hand side** is evaluated first before it is ‘stored’ into *compound_word*. This happens consistently; the *right-hand side* must be resolved before the **left-hand side** of this statement. This whole expression is called an **assignment**--it causes one variable to label or to represent a value.\n",
    "\n",
    "As a final discussion, we will talk a little more about functions. Functions have two main components. They have parameters or arguments (which there is a difference between, but we will get into that later) and a return value (more often considered in terms of its type). The parameters are the values given to the function in parentheses. For example, print() takes a value to be displayed in the console. Generally, this value is a string, but different values may also be converted into strings and used by print(). Similarly, input() takes a string which is a prompt after which the user can give a value in the console. The first of these, print(), does not have a strict return value--rather, its main function is to perform side-effects. It impacts the program without giving back to the program some kind of value. While print() displays a value, it is not a value that the program can continue to use from print(). Meanwhile, input() does return a *string* value which the program can use. However, if we wrote something like this:"
   ]
  },
  {
   "cell_type": "code",
   "execution_count": 54,
   "metadata": {},
   "outputs": [
    {
     "name": "stdout",
     "output_type": "stream",
     "text": [
      "Give us all of your social security numbers here: No!\n"
     ]
    },
    {
     "data": {
      "text/plain": [
       "'No!'"
      ]
     },
     "execution_count": 54,
     "metadata": {},
     "output_type": "execute_result"
    }
   ],
   "source": [
    "input(\"Give us all of your social security numbers here: \")"
   ]
  },
  {
   "cell_type": "markdown",
   "metadata": {},
   "source": [
    "… we wouldn’t actually get a social security number, even if someone put their number in. This is because the value is not stored; it is retrieved by the program and then is trashed because it has no future use. Thus, it is important to assign variables to values if we want to keep them around for further usage.\n",
    "\n",
    "Another way to use functions is through **dot notation**. I have already mentioned that print() and input() are built-in functions. However, because the values \"held\" by variables, we can exploit the types of these values to use the methods corresponding to those *types*. For example, consider the *compound_word* variable created above and a new variable, *my_name*, defined below. We can do all of the following with these variables:"
   ]
  },
  {
   "cell_type": "code",
   "execution_count": 55,
   "metadata": {},
   "outputs": [
    {
     "name": "stdout",
     "output_type": "stream",
     "text": [
      "bookshelf\n",
      "  REEL NAYME  \n",
      "BOOKSHELF\n",
      "  reel nayme  \n",
      "  Reel Nayme  \n",
      "REEL NAYME  \n",
      "  REEL NAYME\n",
      "REEL NAYME\n"
     ]
    }
   ],
   "source": [
    "# Note that single-quotes and double-quotes are both appropriate to denote strings.\n",
    "my_name: str = '  REEL NAYME  '\n",
    "yelling: str = compound_word.upper()\n",
    "whispering: str = my_name.lower()\n",
    "regal_title: str = my_name.title()\n",
    "left_aligned: str = my_name.lstrip()\n",
    "right_aligned: str = my_name.rstrip()\n",
    "compact: str = my_name.strip()\n",
    "    \n",
    "# By the way, his is a comment. The interpreter doesn’t read it. \n",
    "# It’s useful for making notes in code!\n",
    "# Every line that holds comments must start with this symbol.\n",
    "# Alternatively, you could surround text in triple quotes (e.g. \"\"\"...\"\"\") to span multiple lines!\n",
    "\n",
    "print(compound_word)\n",
    "print(my_name)\n",
    "print(yelling)\n",
    "print(whispering)\n",
    "print(regal_title)\n",
    "print(left_aligned)\n",
    "print(right_aligned)\n",
    "print(compact)\n",
    "\n",
    "# ... and you get:"
   ]
  },
  {
   "cell_type": "markdown",
   "metadata": {},
   "source": [
    "Of course, right-aligned is hard to tell apart from the original because printing doesn’t preserve any quotations. However, the rstrip() function does, in fact, remove spaces on the right side of the string. lstrip() does this on the left. strip() does it on both sides. The rest should be somewhat obvious, given their effects. Note that we also could have done something like:"
   ]
  },
  {
   "cell_type": "code",
   "execution_count": 56,
   "metadata": {},
   "outputs": [
    {
     "name": "stdout",
     "output_type": "stream",
     "text": [
      "BOOKSHELF\n"
     ]
    }
   ],
   "source": [
    "print(compound_word.upper())"
   ]
  },
  {
   "cell_type": "markdown",
   "metadata": {},
   "source": [
    "… instead of creating an extra variable. We would have achieved the same result in doing so.\n",
    "\n",
    "To have a function of your own take parameters, all that you need to do is supply the names of those parameters in the parentheses following the function in the definition. For example:"
   ]
  },
  {
   "cell_type": "code",
   "execution_count": 57,
   "metadata": {},
   "outputs": [],
   "source": [
    "def greet(name):\n",
    "    # In the following, we assign the altered version of name to itself. \n",
    "    # In doing so, we essentially replace the value inside of name. \n",
    "    # We will talk more about what happens here later.\n",
    "    name = name.title().strip()\n",
    "    print(\"Hello, \" + name + \".\")"
   ]
  },
  {
   "cell_type": "markdown",
   "metadata": {},
   "source": [
    "With that said, I believe that we are ready for some initial assignments."
   ]
  },
  {
   "cell_type": "markdown",
   "metadata": {},
   "source": [
    "## Programming Assignments"
   ]
  },
  {
   "cell_type": "markdown",
   "metadata": {},
   "source": [
    "A note should be had on these projects. I will denote steps that build on each other as parts of a project. Save only the most complex portion (unless you wish to save individual parts). Be sure to discern that each part is working before moving on.\n",
    "1. Starting with the Basics\n",
    "    1. For this portion, start off by simply printing a farewell to the console. It can be any phrase of goodbye that you want. No variables are required.\n",
    "    2. Create a variable called *first_name*. Feel free to give it a type annotation, if you wish. Assign some value to this variable. Then, change your print statement to address the value in this variable in the console.\n",
    "    3. Define a function called *personal_farewell*. Move this variable and print statement inside the function. Call it to assure that it still works.\n",
    "    4. Alter *personal_farewell* to work in only two lines (including the *def* statement). That is, you should have the function defined in one line and the print statement on the second line.\n",
    "        1. Hint: you’ll need to parameterize your function.\n",
    "        2. Note: calling the function is separate and does not count against these two lines.\n",
    "    5. At the end of this function (that is, included in the function), ask the user whether the goodbye was satisfactory and give them the opportunity to input() their opinion. Then, repeat this input back to them and say that their feedback has been recorded. (Even though it really hasn’t been…)\n",
    "2. Quotations\n",
    "    1. Define a method that takes two parameters. The first should be called *name* and the second should be called *quote*. Print both of these values in separate print statements.\n",
    "    2. Rewrite the method to have one print statement in which the *name* and *quote* are linked in some way. For example, you might have an output like:\n",
    "        1. Albert Einstein once said, \"A person who never made a mistake never tried anything new.\"\n",
    "        2. … in this case, \"Albert Einstein\" is *name* and the quotation is *quote*. (Display of this quote and inspiration for this task was inspired by Matthes 2015.\n",
    "    3. Create a method called *favorite_quotations*. Inside of it, call *quote* three times with three different pairs of parameters. Then, call *favorite_quotations*. You should see the *quote* method working normally and being called three times with outputs appropriate to your inputs.\n",
    "3. Mad Libs\n",
    "    1. Define a method, *create_madlib*, that takes four parameters: *noun*, *verb*, *adjective*, and *adverb*. Be sure that the parameters are in the order given here. Write or find a mad-lib that would take these arguments. Set up your mad-lib in one of two ways:\n",
    "        1. The first way is to make a long concatenation in a print statement in which these variables are accepted.\n",
    "        2. The second way is to define other functions which take some of the parameters given to your *create_madlib* function.\n",
    "    2. Write up three different sets of inputs to your method. Have fun with it!"
   ]
  },
  {
   "cell_type": "markdown",
   "metadata": {},
   "source": [
    "## Sources\n",
    "*Understanding the Digital World* by Brian W. Kernighan (2017).\n",
    "\n",
    "*Concepts of Programming Languages* by Robert W. Sebesta (2016).\n",
    "\n",
    "*Python Crash Course* by Eric Matthes (2015)."
   ]
  }
 ],
 "metadata": {
  "kernelspec": {
   "display_name": "Python 3",
   "language": "python",
   "name": "python3"
  },
  "language_info": {
   "codemirror_mode": {
    "name": "ipython",
    "version": 3
   },
   "file_extension": ".py",
   "mimetype": "text/x-python",
   "name": "python",
   "nbconvert_exporter": "python",
   "pygments_lexer": "ipython3",
   "version": "3.7.0"
  }
 },
 "nbformat": 4,
 "nbformat_minor": 2
}
