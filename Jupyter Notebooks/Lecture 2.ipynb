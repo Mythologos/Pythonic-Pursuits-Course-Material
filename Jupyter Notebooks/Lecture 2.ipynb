{
 "cells": [
  {
   "cell_type": "markdown",
   "metadata": {},
   "source": [
    "# Foundations of Programming: Selection and Iteration"
   ]
  },
  {
   "cell_type": "markdown",
   "metadata": {},
   "source": [
    "This lecture has three parts. First, it reviews the main topics from before--variables and functions. Second, it goes over the *bool* type in preparation for what is to come. Third, it introduces selection through the *if*, *if … else*, and *if … elif … else* constructions. Fourth, it brings in the basics of iteration with while loops, the most basic form of iteration. Throughout the process, we will continue to discuss the *bool* (AKA Boolean) data type and some essential logical operators that relate to this type."
   ]
  },
  {
   "cell_type": "markdown",
   "metadata": {},
   "source": [
    "## Review"
   ]
  },
  {
   "cell_type": "markdown",
   "metadata": {},
   "source": [
    "Last time, we learned about the “nouns” and “verbs” of object-oriented languages: variables and functions. These are the two main topics of our review today.\n",
    "\n",
    "First, we need to store values and keep them around in order to use them as we want and to transform them over time. This is what variables are for. As we discussed, variables have six aspects, four of which we discussed: name, value, address, and type. In essence, these are:\n",
    "1. *Name:* the label which a value is assigned and which represents it throughout the program.\n",
    "2. *Value:* the actual item present in a memory location, present as bits.\n",
    "3. *Address:* the memory location which the variable keeps track of so as to access the value when required.\n",
    "4. *Type:* a set of defined values and actions which can be performed on those values."
   ]
  },
  {
   "cell_type": "code",
   "execution_count": 5,
   "metadata": {
    "hidePrompt": true
   },
   "outputs": [],
   "source": [
    "value_one = 10\n",
    "value_two = 5 + 5\n",
    "value_three = \"5 + 5\"\n",
    "# Error: value_four = value_one + value_three\n",
    "value_five = value_one + value_two\n",
    "value_five = value_five * value_five"
   ]
  },
  {
   "cell_type": "markdown",
   "metadata": {},
   "source": [
    "Let’s focus on the first variable, *value_one*. *value_one* is assigned to the value 10 as its label. Thus, 10 gains the name “value_one”. Innately, the value 10 has the type *int* or integer, which represents the set of all positive and negative whole numbers. The address is implicitly there--the value 10 must be placed somewhere in memory. \n",
    "\n",
    "The second variable, *value_two*, shows what amounts to the same thing but highlights a few key points. First, *value_two* reminds us that the right-hand side of an assignment is evaluated first. That is, 5 + 5 is performed before assignment occurs. Thus, 10 is the value of the variable value_two. The fives are added as integers because the + operator is a function that can be applied to the integer type. Furthermore, the 10 connected with value_two is different from the one in value_one--they are separate entities stored in separate memory locations.\n",
    "\n",
    "The third variable, *value_three*, performs assignment similarly to the previous two items except that it assigns a string to value_three: “5 + 5”. Because a string considers “5 + 5” as the characters 5, a space, +, a space, and another 5, no addition occurs; the string remains as it is and has the label *value_three*.\n",
    "\n",
    "The fourth variable, *value_four*, is not valid--it would throw an error. This is because the + operator, as a function, does not take an integer (*value_one*) and a string (*value_three*) together as operators. The operation, to Python, makes no sense--it doesn’t exist. \n",
    "\n",
    "The fifth variable, *value_five*, does essentially what value_two does. However, the extra step is that *value_one* and *value_two* must be retrieved from where they are in memory before they are used. On the next line, we see that *value_five* is used again. However, it is interestingly used to multiply itself by itself and store the result in itself. Because the right-hand side of an assignment is evaluated first, what would end up occurring would be that the *value_five* evaluated on the previous line would be retrieved twice. Then, the multiplication operation would be performed. Then, the value that *value_five* labels would be changed--in other words, we would lose the 20 that had been placed in value_five and we would replace it with 400, the result of 20 * 20. (Note: the use of a variable like this--using a variable with a value in the right-hand side and then assigning its altered value to itself--is a common and useful practice!)\n",
    "\n",
    "That sums up our discussion of variables from last time."
   ]
  },
  {
   "cell_type": "markdown",
   "metadata": {},
   "source": [
    "Next, let’s talk a little about the essentials of functions. As the actions of a program, functions are often categorized into two types: accessors and mutators. Accessors do not change the overall “state” of the program--instead, they simply tell us about data. Mutators, on the other hand, do change the “state” of the program. The basic idea, though, should be clear: when they’re done, accessors don’t change anything, whereas mutators do. \n",
    "\n",
    "With Python, we have many built-in functions for our disposal that we can already use. Examples of these are print() and input(). These take what is known as *arguments* and perform their actions based on those arguments. They may also have a *return value*--some value which is transferred back to the location at which the function was called. Certain functions can only be called on a value as a method of that value’s type; these are called through *dot notation*. Multiple functions can be called at once, as well. Let’s look at an example:"
   ]
  },
  {
   "cell_type": "code",
   "execution_count": 8,
   "metadata": {
    "hidePrompt": true
   },
   "outputs": [
    {
     "name": "stdout",
     "output_type": "stream",
     "text": [
      "HA!\n"
     ]
    }
   ],
   "source": [
    "def do_a_thing(thing):\n",
    "    return thing.strip().upper()\n",
    "\n",
    "# Variables outside the function are below:\n",
    "my_string: str = \"  ha!  \"\n",
    "my_new_string: str = do_a_thing(my_string)\n",
    "\n",
    "print(my_new_string)"
   ]
  },
  {
   "cell_type": "markdown",
   "metadata": {},
   "source": [
    "In the above, we define a function called *do_a_thing* that takes the parameter *thing*. In this function, we use dot notation to call .strip() and .upper() subsequently on the item *thing* once it is supplied. That is, *thing*.strip() evaluates first. Then, (*thing*.strip()).upper() is done. As we can see--and as we will commonly see--order matters! After the function definition, we have a comment that Python does not read. It is simply for our notes. The same can be said of the type annotation on the two variables. A value is labeled with my_string. Then, in the next line, the right-hand side (RHS) is evaluated first. my_string is passed as an argument to do_a_thing and is used as “thing” inside of the method. Then, “thing” is evaluated on the one line of the method and is returned. Finally, my_new_string is passed as an argument to the print() method and the phrase “LOL!” appears on the console.\n",
    "\n",
    "We’ve seen all this, but here’s one question: what would have happened if I had passed an integer to the function do_a_thing()? Would it have worked? The answer is no, because the writer of this method did not account for that--it implicitly assumes that the methods .strip() and .upper() are supported. In this case, the only type that we know of that fits that bill is a string, so giving an integer argument to the method would cause it to fail.\n",
    "\n",
    "With that said, that is the end of our review of last time."
   ]
  },
  {
   "cell_type": "markdown",
   "metadata": {},
   "source": [
    "## Booleans"
   ]
  },
  {
   "cell_type": "markdown",
   "metadata": {},
   "source": [
    "Thus far, we’ve more heavily delved into two types: integers (int) and strings (str). Of types that are paradigmatic to programming, these types are incredibly frequent and manifest themselves in this form or in variations. However, there is yet another type which fits this category: a **Boolean**, known in Python as a *bool*. This type is named after a mathematician who studied the logic of mathematics with two numbers--in other words, binary mathematics. In this world, “0” and “1” are the only choices for representation. It is the same for the Boolean type; however, we more commonly represent this type as a logical one consisting of True and False. For example:"
   ]
  },
  {
   "cell_type": "code",
   "execution_count": 9,
   "metadata": {
    "hidePrompt": true
   },
   "outputs": [],
   "source": [
    "is_a_variable: bool = True"
   ]
  },
  {
   "cell_type": "markdown",
   "metadata": {},
   "source": [
    "Note that the capitalization of True and False is important in Python--Python won’t see that what you’ve typed is a Boolean unless these words are capitalized. It’s very picky like that.\n",
    "\n",
    "Now, you might be wondering what these items are used for. There aren’t really any dot notation methods that work with Booleans. Certainly, we’re free to change Booleans from True to False and back, but where does that get us? It could serve as a form of notation, but that is a waste of memory when we could use comments. So, then, what are Booleans used for?\n",
    "\n",
    "Enter selection, iteration, and expressions."
   ]
  },
  {
   "cell_type": "markdown",
   "metadata": {},
   "source": [
    "## Selection"
   ]
  },
  {
   "cell_type": "markdown",
   "metadata": {},
   "source": [
    "In programming languages, **selection** refers to the concept of *choice*--actions are chosen based upon certain conditions. There are various manifestations of this choice syntactically, but they generally take the same form. This involves two general stages. The first *checks whether an action should be performed* or *which action should be performed*; the second *performs the action*. Python’s version of selection takes exactly one format, making it easy to use and to get used to. In full, this format can be displayed as follows:"
   ]
  },
  {
   "cell_type": "code",
   "execution_count": 1,
   "metadata": {
    "hideCode": false,
    "hideOutput": false,
    "hidePrompt": true,
    "tags": [
     "remove_cell"
    ]
   },
   "outputs": [],
   "source": [
    "# Please ignore the below code.\n",
    "def do_this():\n",
    "    pass\n",
    "\n",
    "def do_this_instead():\n",
    "    pass\n",
    "\n",
    "def do_this_if_all_else_fails():\n",
    "    pass\n",
    "\n",
    "expression_is_true = False\n",
    "other_expression_is_true = False\n",
    "# Please ignore the above code."
   ]
  },
  {
   "cell_type": "code",
   "execution_count": 2,
   "metadata": {
    "hidePrompt": true
   },
   "outputs": [],
   "source": [
    "if expression_is_true:\n",
    "    do_this()\n",
    "elif other_expression_is_true:\n",
    "    do_this_instead()\n",
    "else:\n",
    "    do_this_if_all_else_fails()"
   ]
  },
  {
   "cell_type": "markdown",
   "metadata": {},
   "source": [
    "Let’s discuss this format and make a few clarifications about it. We’ll do so through a more coherent example:"
   ]
  },
  {
   "cell_type": "code",
   "execution_count": 5,
   "metadata": {
    "hidePrompt": true
   },
   "outputs": [
    {
     "name": "stdout",
     "output_type": "stream",
     "text": [
      "First option!\n"
     ]
    }
   ],
   "source": [
    "my_first_condition: bool = True\n",
    "my_second_condition: bool = True\n",
    "if my_first_condition:\n",
    "    print(\"First option!\")\n",
    "elif my_second_condition:\n",
    "    print(\"Second option!\")\n",
    "else:\n",
    "    print(\"My last option!\")"
   ]
  },
  {
   "cell_type": "markdown",
   "metadata": {},
   "source": [
    "Here, we set up two variables that are used in the selection statements. They are both initially true. When this code runs, the first two variables are assigned the Boolean true. Then, the condition hits. We hit the *if* statement, which evaluates first. To determine whether the program will perform the actions in this condition, the **expression**--one or many values and accompanying operations--must be evaluated. Because my_first_condition determined to be true, we go inside the *if* statement. We perform the action(s) inside the *if* statement; that is, “First option!” is printed. After that, the other statements in the selection are ignored. We do not check *elif* or *else*; they no longer matter to the program because if was evaluated. In other words, selection chooses one option and one option only in this case. For Python, in fact, this is always true--there is not an explicit form of multiple selection, where you could choose multiple options depending on the circumstances. Other languages do have this, but Python has chosen not to implement it because it can be done in other ways.\n",
    "\n",
    "Given what we just discussed, what do you think will happen if we run the code above with a slight change?"
   ]
  },
  {
   "cell_type": "code",
   "execution_count": 7,
   "metadata": {
    "hideCode": false,
    "hideOutput": false,
    "hidePrompt": false
   },
   "outputs": [
    {
     "name": "stdout",
     "output_type": "stream",
     "text": [
      "Second option!\n"
     ]
    }
   ],
   "source": [
    "my_first_condition: bool = False\n",
    "my_second_condition: bool = True\n",
    "if my_first_condition:\n",
    "    print(\"First option!\")\n",
    "elif my_second_condition:\n",
    "    print(\"Second option!\")\n",
    "else:\n",
    "    print(\"My last option!\")"
   ]
  },
  {
   "cell_type": "markdown",
   "metadata": {},
   "source": [
    "The answer is simple. We proceed as before. However, when checking the if statement, we find my_first_condition to be false. Thus, we proceed to check the next condition--elif. This stands for “else if” and is simply a shortened syntactic form. (Note that, in Python, it is elif that is correct; you can do else if, but it is more syntactically complicated and less “Pythonic.”) Upon checking this condition, my_second_condition, the program chooses that option because the expression (my_second_condition) evaluates to true, that option’s actions are performed. Thus, “Second option!” is printed. Furthermore, nothing else happens.\n",
    "\n",
    "Finally, if both conditions are set to false:"
   ]
  },
  {
   "cell_type": "code",
   "execution_count": 10,
   "metadata": {
    "hidePrompt": true
   },
   "outputs": [
    {
     "name": "stdout",
     "output_type": "stream",
     "text": [
      "My last option!\n"
     ]
    }
   ],
   "source": [
    "my_first_condition: bool = False\n",
    "my_second_condition: bool = False\n",
    "if my_first_condition:\n",
    "    print(\"First option!\")\n",
    "elif my_second_condition:\n",
    "    print(\"Second option!\")\n",
    "else:\n",
    "    print(\"My last option!\")"
   ]
  },
  {
   "cell_type": "markdown",
   "metadata": {},
   "source": [
    "… the first two conditions are evaluated to false and are skipped and “My last option” is printed as a result. No condition needs to be evaluated; this action happens when no other does."
   ]
  },
  {
   "cell_type": "code",
   "execution_count": 3,
   "metadata": {},
   "outputs": [
    {
     "data": {
      "application/vnd.jupyter.widget-view+json": {
       "model_id": "d4283479164a4f9c986f745531b6dfbf",
       "version_major": 2,
       "version_minor": 0
      },
      "text/plain": [
       "interactive(children=(Dropdown(description='first', options=(True, False), value=True), Dropdown(description='…"
      ]
     },
     "metadata": {},
     "output_type": "display_data"
    }
   ],
   "source": [
    "# Please ignore the following lines.\n",
    "from __future__ import print_function\n",
    "from ipywidgets import interact, interactive, fixed, interact_manual\n",
    "import ipywidgets as widgets\n",
    "options = [True, False]\n",
    "# Please ignore the above lines.\n",
    "\n",
    "def selection_example(first, second):\n",
    "    my_first_condition: bool = first\n",
    "    my_second_condition: bool = second\n",
    "    if my_first_condition:\n",
    "        print(\"First option!\")\n",
    "    elif my_second_condition:\n",
    "        print(\"Second option!\")\n",
    "    else:\n",
    "        print(\"My last option!\")\n",
    "\n",
    "# Ignore the below code, as well.\n",
    "interact(selection_example, first=options, second=options);\n",
    "\n",
    "# Use the below boxes to manipulate the function above!"
   ]
  },
  {
   "cell_type": "markdown",
   "metadata": {
    "hideOutput": false,
    "hidePrompt": false
   },
   "source": [
    "\n",
    "This shows the construction of selection statements in Python. However, we have many variations on these statements. For example, we could add more *elif* statements--as many as we wanted--between the *if* and *else*. We do not need to include the *else*. We also do not need to include any *elif*s if we do not want to. In other words:"
   ]
  },
  {
   "cell_type": "code",
   "execution_count": 2,
   "metadata": {
    "hideCode": false,
    "hideOutput": true,
    "hidePrompt": true,
    "jupyter.outputs_hidden": true,
    "jupyter.source_hidden": true
   },
   "outputs": [],
   "source": [
    "# Please don't focus on the below code.\n",
    "def action():\n",
    "    pass\n",
    "\n",
    "def other_action():\n",
    "    pass\n",
    "\n",
    "def other_other_action():\n",
    "    pass\n",
    "\n",
    "def other_other_other_action():\n",
    "    pass\n",
    "\n",
    "condition: bool = True\n",
    "condition_2: bool = True\n",
    "condition_3: bool = True\n",
    "# Please don't focus on the above code."
   ]
  },
  {
   "cell_type": "code",
   "execution_count": 12,
   "metadata": {
    "hidePrompt": true
   },
   "outputs": [],
   "source": [
    "if condition:\n",
    "    action()\n",
    "\n",
    "if condition:\n",
    "    action()\n",
    "else:\n",
    "    other_action()\n",
    "\n",
    "if condition:\n",
    "    action()\n",
    "elif condition_2:\n",
    "    other_action()\n",
    "\n",
    "if condition:\n",
    "    action()\n",
    "elif condition_2:\n",
    "    other_action()\n",
    "elif condition_3:\n",
    "    other_other_action()\n",
    "\n",
    "if condition:\n",
    "    action()\n",
    "elif condition_2:\n",
    "    other_action()\n",
    "elif condition_3:\n",
    "    other_other_action()\n",
    "else:\n",
    "    other_other_other_action()"
   ]
  },
  {
   "cell_type": "markdown",
   "metadata": {},
   "source": [
    "… are all valid forms of selection in Python. Such are the basics of selection. "
   ]
  },
  {
   "cell_type": "markdown",
   "metadata": {},
   "source": [
    "## Selection"
   ]
  },
  {
   "cell_type": "markdown",
   "metadata": {},
   "source": [
    "Selection is a powerful tool for programming--it allows for a program to adapt to various conditions. On the other hand, there’s no longevity to these conditions. Thus far, each run through the conditions must choose one condition and move on. What if we wanted to change some attribute and run over the conditions multiple times? How could we accomplish that?\n",
    "With selection alone, there is one possibility.\n",
    "\n",
    "Let’s say we have the following statements:"
   ]
  },
  {
   "cell_type": "code",
   "execution_count": 13,
   "metadata": {
    "hidePrompt": true
   },
   "outputs": [
    {
     "name": "stdout",
     "output_type": "stream",
     "text": [
      "We’re done!\n",
      "-----\n",
      "We’re too low!\n",
      "-----\n",
      "We’re too high!\n"
     ]
    }
   ],
   "source": [
    "def when_ten(number):\n",
    "    if number == 10:\n",
    "        print(\"We’re done!\")\n",
    "    elif number < 10:\n",
    "        print(\"We’re too low!\")\n",
    "        number = number + 1\n",
    "    else:\n",
    "        print(\"We’re too high!\")\n",
    "        number = number - 1\n",
    "\n",
    "when_ten(10)\n",
    "print(\"-----\")\n",
    "when_ten(9)\n",
    "print(\"-----\")\n",
    "when_ten(17)"
   ]
  },
  {
   "cell_type": "markdown",
   "metadata": {
    "hidePrompt": true
   },
   "source": [
    "Our function, when_ten(), takes an integer as an argument and is intended to make whatever number that goes into it become 10. It then prints that it has made the number 10 to the console. Otherwise, it prints that the number given as a parameter is too high or too low. But it doesn’t and *can’t* work as it is for all integers. If the number is less than 10 or greater than 10, even if we later number inside the conditions as shown above, we can’t get to 10 and cue the first condition because we can’t loop over the conditions over and over. Certainly, when_ten(10) will succeed, but the other two items will fail--they can’t get back to that first *if*. \n",
    "\n",
    "Now, we could do this:"
   ]
  },
  {
   "cell_type": "code",
   "execution_count": 22,
   "metadata": {
    "hidePrompt": true
   },
   "outputs": [
    {
     "name": "stdout",
     "output_type": "stream",
     "text": [
      "We’re done!\n",
      "-----\n",
      "We’re too low!\n",
      "We’re done!\n",
      "-----\n",
      "We’re too high!\n",
      "We’re too high!\n"
     ]
    }
   ],
   "source": [
    "def when_ten(number):\n",
    "    if number == 10:\n",
    "        print(\"We’re done!\")\n",
    "    elif number < 10:\n",
    "        print(\"We’re too low!\")\n",
    "        number = number + 1\n",
    "        if number == 10:\n",
    "            print(\"We’re done!\")\n",
    "        elif number < 10:\n",
    "            print(\"We’re too low!\")\n",
    "            number = number + 1\n",
    "        else:\n",
    "            print(\"We’re too high!\")\n",
    "            number = number - 1\n",
    "    else:\n",
    "        print(\"We’re too high!\")\n",
    "        number = number - 1\n",
    "        if number == 10:\n",
    "            print(\"We’re done!\")\n",
    "        elif number < 10:\n",
    "            print(\"We’re too low!\")\n",
    "            number = number + 1\n",
    "        else:\n",
    "            print(\"We’re too high!\")\n",
    "            number = number - 1\n",
    "\n",
    "when_ten(10)\n",
    "print(\"-----\")\n",
    "when_ten(9)\n",
    "print(\"-----\")\n",
    "when_ten(17)"
   ]
  },
  {
   "cell_type": "markdown",
   "metadata": {},
   "source": [
    "… but this code is unnecessarily long and repetitive; furthermore, it only works for one two iterations. when_ten(9) would now work as intended, but when_ten(17) would still fail. We don’t want to keep repeating the same code over and over and over; thus, we use the technique of **iteration** instead. "
   ]
  },
  {
   "cell_type": "markdown",
   "source": [
    "## Iteration: An Introduction"
   ],
   "metadata": {
    "collapsed": false,
    "pycharm": {
     "name": "#%% md\n"
    }
   }
  },
  {
   "cell_type": "markdown",
   "source": [
    "The most basic--and most controlled--form of iteration known as the *while* loop. This variant of iteration is commonly used in a variety of programming languages. Syntactically, it is as follows:"
   ],
   "metadata": {
    "collapsed": false,
    "pycharm": {
     "name": "#%% md\n"
    }
   }
  },
  {
   "cell_type": "code",
   "execution_count": null,
   "metadata": {
    "hidePrompt": true
   },
   "outputs": [],
   "source": [
    "while condition:\n",
    "    action()"
   ]
  },
  {
   "cell_type": "markdown",
   "metadata": {},
   "source": [
    "Seems pretty simple, right? Certainly, it can be--however, as with any programming construct, it could be made more complex depending on how it is used. Let’s fix the above code with the while loop to show it in action."
   ]
  },
  {
   "cell_type": "code",
   "execution_count": 5,
   "metadata": {
    "hideOutput": true,
    "hidePrompt": true
   },
   "outputs": [
    {
     "data": {
      "application/vnd.jupyter.widget-view+json": {
       "model_id": "9faf95d4302546feb9fefe7818782446",
       "version_major": 2,
       "version_minor": 0
      },
      "text/plain": [
       "interactive(children=(IntSlider(value=10, continuous_update=False, description='number', max=30, min=-10), Out…"
      ]
     },
     "metadata": {},
     "output_type": "display_data"
    },
    {
     "data": {
      "text/plain": [
       "<function __main__.whenTen(number)>"
      ]
     },
     "execution_count": 5,
     "metadata": {},
     "output_type": "execute_result"
    }
   ],
   "source": [
    "def when_ten(number):\n",
    "    while number != 10:\n",
    "        if number < 10:\n",
    "            print(\"We’re too low!\")\n",
    "            number = number + 1\n",
    "        else:\n",
    "            print(\"We’re too high!\")\n",
    "            number = number - 1\n",
    "        print(\"Loop’s ended.\")\n",
    "    print(\"We're done!\")\n",
    "\n",
    "# Ignore the below code:\n",
    "interact(when_ten, number=widgets.IntSlider(min=-10,max=30,step=1,value=10, continuous_update=False))\n",
    "\n",
    "# Use the below to interact with the program (and ignore the Out value):"
   ]
  },
  {
   "cell_type": "markdown",
   "metadata": {},
   "source": [
    "A *while* loop works as follows. When the code, in its process, hits the *while* statement, it evaluates the *condition* given after the *if* keyword and before the colon. When the number is not equal to 10, the program performs the actions inside the loop. It repeatedly checks the selection over and over, adding or subtracting when relevant, until number equals 10. Once this is the case and the program returns to the *while* statement to evaluate the condition, the loop ends and actions after the loop are performed. In other words, as it uses the loop, the program will eventually set number to 10. However, it will not end right when that happens. Rather, the print statement at the bottom of the loop will be triggered. Then, the loop will return to the top and checks whether a new iteration should be started. Since 10 *is* equal to 10, the condition is false and the loop concludes. Then, the actions outside the loop are performed--that is, in this case, the final print statement."
   ]
  },
  {
   "cell_type": "markdown",
   "metadata": {},
   "source": [
    "## Conclusion"
   ]
  },
  {
   "cell_type": "markdown",
   "metadata": {},
   "source": [
    "Selection and iteration are simple concepts that can be used in complex ways. What I have given so far is an introduction. But I have also shown some additional complexity with which they can be used. While Booleans could be used as conditions (e.g. as a “switch” that one sets to True or False depending on the desired outcome), expressions that are evaluated could also work. Mathematical expressions are often used for this purpose. For example, the “==” and “!=” were used to represent *equals* and *not equals* for integer expressions. This is contrary to what we might think mathematically; however, note that the “=” symbol is already taken up by assignment. We cannot use it in two different ways and expect the computer to just know which is used. Thus, the double equal sign is used for equality and the exclamation point with the equal sign is used for inequality. Note further that the exclamation point is a common logical operator meaning “NOT”--so, if you see it elsewhere, know that that is likely what it indicates!\n",
    "\n",
    "We’re getting closer to being able to tackle more interesting projects! However, we should take some time to cement these pivotal constructs of programming. See the assignments below for some examples."
   ]
  },
  {
   "cell_type": "markdown",
   "metadata": {},
   "source": [
    "## Assignments"
   ]
  },
  {
   "cell_type": "markdown",
   "metadata": {},
   "source": [
    "1. Basic Selection: Initially, I had the second question being the first. I decided to add another question which was a lot less lengthy in order to get you started. We have discussed functions that serve as *accessors* at some length. Now, you'll use the power of *if* statements and Booleans to write one. Provided with this lecture will be a predefined function, reverse(). Don't worry about how exactly it works. It returns the reverse of a string--in other words, a string backwards. Using this, I want you to create a function, isPalindrome, that has a single string parameter and determines whether a string is a palindrome. To do this, you're going to have to do the following things:\n",
    "    1. Define a function.\n",
    "    2. Define a variable of type Boolean. Set it to an initial value.\n",
    "    3. Use an *if* statement with a condition including reverse() to determine whether the initial string and the reversed string are equivalent.\n",
    "    4. Return a Boolean value. And that's all there is to it, unless you want to use print statements to examine your result.\n",
    "2. Polling with Selection and Iteration: To sum up fully the lessons from this lecture, let’s walk through some simple tasks to help you to wrap your mind around today’s lessons. This time, you’ll be building a function that serves as a multiple-choice question poll. Let’s get started.\n",
    "    1. Define a function called *poll* with two parameters: *question* and *answer_one*. For now, have this function print each value separately in the body of the function. Be sure to test this once with each of these items as a string.\n",
    "    2. After these print statements, set up an assignment statement between a variable *poll_response* and input(). Also, set up a variable called *a1_count* assign 0 to it. Then, set up a condition in which if poll_response equals *answer_one*, then *a1_count* is increased by 1. Afterward, print a line saying “Poll results:” and, subsequently, print a line having *answer_one*, a colon, a space, and *a1_count* present in that order.\n",
    "        1. **Note 1:** Thankfully, “==” works for both integers and strings! Based on the types that the “==” operator is being used with, Python knows how to discern equality. (e.g.: “string” == “string” would evaluate to True, whereas “foo” == “notfoo” would evaluate to False)\n",
    "        2. **Note 2:** In order to concatenate *a1_count* in that last print line, you’ll need to use the str() function. Use it by giving *a1_count* as an argument to str(). This function converts the argument given into a string, if possible.\n",
    "    3. Add an *else* clause that prints a message stating that the given input did not match any of the given answers. Be sure to test it, as with part (b)!\n",
    "    4. Let’s add some more options. This has a few separate but related steps:\n",
    "        1. Add three parameters to poll: *answer_two*, *answer_three*, and *answer_four*. \n",
    "        2. Similarly, add *a2_count*, *a3_count*, and *a4_count*. \n",
    "        3. Set up *elif* statements to accommodate for these new answer possibilities in a similar way to *answer_one* and *a1_count*. \n",
    "        4. Add the three new answers and the three new counts to the poll results.\n",
    "    5. What’s the fun of a poll when you can only get up to one result every time? This step will incorporate iteration into your function.\n",
    "        1. Create a variable called *loop_condition* and set it initially to True. Use it as your condition for the *while* loop. Place it before your declaration of *poll_response*.\n",
    "        2. After where you’ve defined your variables and before your conditions, establish a while loop that contains those selection statements and *poll_response*. Be sure to adjust the tabs accordingly--you want to be sure to establish that your conditions are inside the while loop. You also don’t want to reset variables inside the loop by accident; remember that actions inside a loop are done upon every iteration.\n",
    "        3. Set it up so that *loop_condition* changes to false when a valid input has been given--that is, when *poll_response* equals one of the answers. \n",
    "    6. This is the last step! You’ve got a poll for one person going; however, what if you wanted multiple users to poll in? Let’s simulate that.\n",
    "        1. Add a new parameter called *num_pollers*. Similarly, remove your use of the *loop_condition*, as you are replacing it with a Boolean expression--an expression that evaluates to True or False.\n",
    "        2. Set your while condition to check that *num_pollers* is greater than zero. The greater than sign is what you’d expect: “>”.\n",
    "        3. The behavior you want is to have the program move on to the next “poller” when the current “poller” has given a valid response. How do you think that you could implement this with your given condition? Hint: you’ll have to think similarly to how you did the *loop_condition* before in Part 3 of the previous step.\n",
    "        4. As a final test, run the following code:\n",
    "            1. poll(\"How many errors did you get while writing this code?\", \"None\", \"Few\", \"Many\", \"Too Many\", 5)\n",
    "                1. Answer with each option once and any of your choice twice. Be sure to also give an invalid answer at least once to assure that you still input five answers and that the invalid answer is handled appropriately. Your output should reflect your inputs.\n",
    "3. Start Menu: Games, just like anything else, are programs. For any game to run, it’s got to have some kind of iteration--it has to keep running perpetually until some condition causes it to stop (e.g. the user turns it off). We’re going to take our first step toward understanding game and other general programming with a text-based start menu. This project will be slightly more free-form and will give much less guidance than the previous task. \n",
    "    1. To create this menu, fulfill the following requirements:\n",
    "        1. Use a *while* loop that takes in input on each loop for some action to be performed and appropriately notifies the user when they have put in invalid input.\n",
    "        2. On each loop, print some dialogue or text that indicates that the user is on the Main Menu.\n",
    "        3. Create a ‘quit’ input that ends the loop and concludes the program.\n",
    "        4. Create a ‘help’ input that tells the user what commands are available and, optionally, what they do. Call a separate function to print help-related statements.\n",
    "        5. Create an ‘options’ input that has its own selection inside of it and waits for input on those options; similarly to the Main Menu, print for each iteration that the user is on this menu. Note that these options do not have to do anything; merely having a print statement to say that something is done suffices.\n",
    "        6. Create some string keyword input that alters the Main Menu in some way; it could change the text, for example. Make it so that the Main Menu can be returned to its original state through the same process.\n",
    "            1. Feel free to make use of the string functions you saw in Lecture 1 for this step.\n",
    "4. Challenge: For when_ten(), I showed that a *while* loop could be used to solve its problem. Given the requirements (and read them carefully), however, there are two other ways in which when_ten() could be written without a *while* loop or other forms of iteration. I don’t expect you to get one of them, as it involves a concept you haven’t learned (although, you’ve learned all the necessary syntax to write it); however, the other simply involves a logical trick. See if you can do it!"
   ]
  }
 ],
 "metadata": {
  "celltoolbar": "Hide code",
  "kernelspec": {
   "display_name": "Python 3",
   "language": "python",
   "name": "python3"
  },
  "language_info": {
   "codemirror_mode": {
    "name": "ipython",
    "version": 3
   },
   "file_extension": ".py",
   "mimetype": "text/x-python",
   "name": "python",
   "nbconvert_exporter": "python",
   "pygments_lexer": "ipython3",
   "version": "3.7.0"
  },
  "widgets": {
   "application/vnd.jupyter.widget-state+json": {
    "state": {
     "090ecf6fa33f406988cc26d7c90a44d3": {
      "model_module": "@jupyter-widgets/controls",
      "model_module_version": "1.4.0",
      "model_name": "DescriptionStyleModel",
      "state": {
       "description_width": ""
      }
     },
     "0c6e100cff494795bf1266aa5dfb9ea4": {
      "model_module": "@jupyter-widgets/base",
      "model_module_version": "1.1.0",
      "model_name": "LayoutModel",
      "state": {}
     },
     "0edc7fdb0eb8455c94164b8b916c00d0": {
      "model_module": "@jupyter-widgets/controls",
      "model_module_version": "1.4.0",
      "model_name": "DescriptionStyleModel",
      "state": {
       "description_width": ""
      }
     },
     "139c0f7029804d3b86b2c33a0100c83a": {
      "model_module": "@jupyter-widgets/controls",
      "model_module_version": "1.4.0",
      "model_name": "SliderStyleModel",
      "state": {
       "description_width": ""
      }
     },
     "18989e861b11442fba9dc5f08fccead0": {
      "model_module": "@jupyter-widgets/controls",
      "model_module_version": "1.4.0",
      "model_name": "DropdownModel",
      "state": {
       "_options_labels": [
        "True",
        "False"
       ],
       "description": "first",
       "index": 0,
       "layout": "IPY_MODEL_ffcf1940fc1f4f25a62c78a5dc067145",
       "style": "IPY_MODEL_090ecf6fa33f406988cc26d7c90a44d3"
      }
     },
     "1d7113c594114b60a75bcdfaad618169": {
      "model_module": "@jupyter-widgets/controls",
      "model_module_version": "1.4.0",
      "model_name": "IntSliderModel",
      "state": {
       "continuous_update": false,
       "description": "number",
       "layout": "IPY_MODEL_a703b60d9fb44114b166e2eb106389ac",
       "max": 30,
       "min": -10,
       "style": "IPY_MODEL_e42f1e54b78a4b0897d16fa77cf42f39",
       "value": 10
      }
     },
     "202002cd1a0044f0893a71ef68f9987d": {
      "model_module": "@jupyter-widgets/controls",
      "model_module_version": "1.4.0",
      "model_name": "VBoxModel",
      "state": {
       "_dom_classes": [
        "widget-interact"
       ],
       "children": [
        "IPY_MODEL_1d7113c594114b60a75bcdfaad618169",
        "IPY_MODEL_9147c72881da4d5983c556bae4fe382a"
       ],
       "layout": "IPY_MODEL_d6adeb2142cc46aebfaa418fe447bca8"
      }
     },
     "27685522b2204947961ebea46391b631": {
      "model_module": "@jupyter-widgets/controls",
      "model_module_version": "1.4.0",
      "model_name": "VBoxModel",
      "state": {
       "_dom_classes": [
        "widget-interact"
       ],
       "children": [
        "IPY_MODEL_18989e861b11442fba9dc5f08fccead0",
        "IPY_MODEL_c9470b681260459195f5b8a3ceddbafd",
        "IPY_MODEL_abdb8d16fe3948458e65910d147d7c4a"
       ],
       "layout": "IPY_MODEL_f8192c324cfc40c1aa643deb47762704"
      }
     },
     "3dc04ce787db46d08cf6c718e7cbfd68": {
      "model_module": "@jupyter-widgets/controls",
      "model_module_version": "1.4.0",
      "model_name": "DescriptionStyleModel",
      "state": {
       "description_width": ""
      }
     },
     "504f3ed5525a4901811abfefbe649659": {
      "model_module": "@jupyter-widgets/base",
      "model_module_version": "1.1.0",
      "model_name": "LayoutModel",
      "state": {}
     },
     "555465f89f194765ac393b715c686c39": {
      "model_module": "@jupyter-widgets/base",
      "model_module_version": "1.1.0",
      "model_name": "LayoutModel",
      "state": {}
     },
     "5692d8d32c114f23b1a6c58facec0ca2": {
      "model_module": "@jupyter-widgets/base",
      "model_module_version": "1.1.0",
      "model_name": "LayoutModel",
      "state": {}
     },
     "635d236a0454437d9d4c9231068a2158": {
      "model_module": "@jupyter-widgets/base",
      "model_module_version": "1.1.0",
      "model_name": "LayoutModel",
      "state": {}
     },
     "6f6e99b45d0744bbaa29234784cbfeaa": {
      "model_module": "@jupyter-widgets/controls",
      "model_module_version": "1.4.0",
      "model_name": "VBoxModel",
      "state": {
       "_dom_classes": [
        "widget-interact"
       ],
       "children": [
        "IPY_MODEL_f9b227f41f86434ba6f883c1ecac331d",
        "IPY_MODEL_efe7daf3e2d8449d93ceb6874d3b8f44"
       ],
       "layout": "IPY_MODEL_b59bb75f06564975b2a9cba0b964e300"
      }
     },
     "9147c72881da4d5983c556bae4fe382a": {
      "model_module": "@jupyter-widgets/output",
      "model_module_version": "1.0.0",
      "model_name": "OutputModel",
      "state": {
       "layout": "IPY_MODEL_5692d8d32c114f23b1a6c58facec0ca2",
       "outputs": [
        {
         "name": "stdout",
         "output_type": "stream",
         "text": "We're done!\n"
        }
       ]
      }
     },
     "98b7a50eb2b74890be509141e8972338": {
      "model_module": "@jupyter-widgets/controls",
      "model_module_version": "1.4.0",
      "model_name": "DescriptionStyleModel",
      "state": {
       "description_width": ""
      }
     },
     "a02bbfca714249ec9d7ebf5cf2dd9725": {
      "model_module": "@jupyter-widgets/base",
      "model_module_version": "1.1.0",
      "model_name": "LayoutModel",
      "state": {}
     },
     "a0975dbf01e040d69433e2a6e2439dd2": {
      "model_module": "@jupyter-widgets/base",
      "model_module_version": "1.1.0",
      "model_name": "LayoutModel",
      "state": {}
     },
     "a703b60d9fb44114b166e2eb106389ac": {
      "model_module": "@jupyter-widgets/base",
      "model_module_version": "1.1.0",
      "model_name": "LayoutModel",
      "state": {}
     },
     "a983311608744fb4ac6d6865d7465509": {
      "model_module": "@jupyter-widgets/controls",
      "model_module_version": "1.4.0",
      "model_name": "DropdownModel",
      "state": {
       "_options_labels": [
        "True",
        "False"
       ],
       "description": "second",
       "index": 0,
       "layout": "IPY_MODEL_0c6e100cff494795bf1266aa5dfb9ea4",
       "style": "IPY_MODEL_0edc7fdb0eb8455c94164b8b916c00d0"
      }
     },
     "abdb8d16fe3948458e65910d147d7c4a": {
      "model_module": "@jupyter-widgets/output",
      "model_module_version": "1.0.0",
      "model_name": "OutputModel",
      "state": {
       "layout": "IPY_MODEL_eac427af17594ad5b872ac4120f2c28c",
       "outputs": [
        {
         "name": "stdout",
         "output_type": "stream",
         "text": "First option!\n"
        }
       ]
      }
     },
     "b59bb75f06564975b2a9cba0b964e300": {
      "model_module": "@jupyter-widgets/base",
      "model_module_version": "1.1.0",
      "model_name": "LayoutModel",
      "state": {}
     },
     "c052519acbcf4b75b5b2eaa17e795376": {
      "model_module": "@jupyter-widgets/controls",
      "model_module_version": "1.4.0",
      "model_name": "DropdownModel",
      "state": {
       "_options_labels": [
        "True",
        "False"
       ],
       "description": "first",
       "index": 0,
       "layout": "IPY_MODEL_a0975dbf01e040d69433e2a6e2439dd2",
       "style": "IPY_MODEL_98b7a50eb2b74890be509141e8972338"
      }
     },
     "c9470b681260459195f5b8a3ceddbafd": {
      "model_module": "@jupyter-widgets/controls",
      "model_module_version": "1.4.0",
      "model_name": "DropdownModel",
      "state": {
       "_options_labels": [
        "True",
        "False"
       ],
       "description": "second",
       "index": 0,
       "layout": "IPY_MODEL_555465f89f194765ac393b715c686c39",
       "style": "IPY_MODEL_3dc04ce787db46d08cf6c718e7cbfd68"
      }
     },
     "d6adeb2142cc46aebfaa418fe447bca8": {
      "model_module": "@jupyter-widgets/base",
      "model_module_version": "1.1.0",
      "model_name": "LayoutModel",
      "state": {}
     },
     "d9d6012b14664a0d95c26527df52f3c5": {
      "model_module": "@jupyter-widgets/base",
      "model_module_version": "1.1.0",
      "model_name": "LayoutModel",
      "state": {}
     },
     "dad6b0e93e294e02a9b095734d9dccc8": {
      "model_module": "@jupyter-widgets/controls",
      "model_module_version": "1.4.0",
      "model_name": "VBoxModel",
      "state": {
       "_dom_classes": [
        "widget-interact"
       ],
       "children": [
        "IPY_MODEL_c052519acbcf4b75b5b2eaa17e795376",
        "IPY_MODEL_a983311608744fb4ac6d6865d7465509",
        "IPY_MODEL_fbb045b42a544ef2a02ff94e9b9a3e28"
       ],
       "layout": "IPY_MODEL_a02bbfca714249ec9d7ebf5cf2dd9725"
      }
     },
     "e42f1e54b78a4b0897d16fa77cf42f39": {
      "model_module": "@jupyter-widgets/controls",
      "model_module_version": "1.4.0",
      "model_name": "SliderStyleModel",
      "state": {
       "description_width": ""
      }
     },
     "eac427af17594ad5b872ac4120f2c28c": {
      "model_module": "@jupyter-widgets/base",
      "model_module_version": "1.1.0",
      "model_name": "LayoutModel",
      "state": {}
     },
     "efe7daf3e2d8449d93ceb6874d3b8f44": {
      "model_module": "@jupyter-widgets/output",
      "model_module_version": "1.0.0",
      "model_name": "OutputModel",
      "state": {
       "layout": "IPY_MODEL_635d236a0454437d9d4c9231068a2158",
       "outputs": [
        {
         "name": "stdout",
         "output_type": "stream",
         "text": "We're done!\n"
        }
       ]
      }
     },
     "f8192c324cfc40c1aa643deb47762704": {
      "model_module": "@jupyter-widgets/base",
      "model_module_version": "1.1.0",
      "model_name": "LayoutModel",
      "state": {}
     },
     "f9b227f41f86434ba6f883c1ecac331d": {
      "model_module": "@jupyter-widgets/controls",
      "model_module_version": "1.4.0",
      "model_name": "IntSliderModel",
      "state": {
       "continuous_update": false,
       "description": "number",
       "layout": "IPY_MODEL_504f3ed5525a4901811abfefbe649659",
       "max": 30,
       "min": -10,
       "style": "IPY_MODEL_139c0f7029804d3b86b2c33a0100c83a",
       "value": 10
      }
     },
     "fbb045b42a544ef2a02ff94e9b9a3e28": {
      "model_module": "@jupyter-widgets/output",
      "model_module_version": "1.0.0",
      "model_name": "OutputModel",
      "state": {
       "layout": "IPY_MODEL_d9d6012b14664a0d95c26527df52f3c5",
       "outputs": [
        {
         "name": "stdout",
         "output_type": "stream",
         "text": "First option!\n"
        }
       ]
      }
     },
     "ffcf1940fc1f4f25a62c78a5dc067145": {
      "model_module": "@jupyter-widgets/base",
      "model_module_version": "1.1.0",
      "model_name": "LayoutModel",
      "state": {}
     }
    },
    "version_major": 2,
    "version_minor": 0
   }
  },
  "pycharm": {
   "stem_cell": {
    "cell_type": "raw",
    "source": [],
    "metadata": {
     "collapsed": false
    }
   }
  }
 },
 "nbformat": 4,
 "nbformat_minor": 2
}