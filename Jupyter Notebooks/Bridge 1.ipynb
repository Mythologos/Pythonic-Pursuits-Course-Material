{
 "cells": [
  {
   "cell_type": "markdown",
   "metadata": {},
   "source": [
    "# Functions and Variables: Examples of Many Types"
   ]
  },
  {
   "cell_type": "markdown",
   "metadata": {},
   "source": [
    "Between every major content lecture, I am thinking of having a “bridge” lecture--one that allows for some breathing room between new concepts by providing further examples of the current ones while providing some clarification and further experience.\n",
    "\n",
    "Today, we will venture into various examples of primitive types--those types which are independent building blocks out of which other, more complicated types are built. Python is relatively standard when it comes to the sort of primitive types that one seems in programming languages. Here are those types:\n",
    "\n",
    "1. **bool:** a type having to do with Boolean logic. We’ll talk about this in the next lecture.\n",
    "2. **complex:** a type composed by complex numbers. You may have also heard them called imaginary numbers. They are all of the form a + bi, where a and b are rational numbers (e.g. numbers that don’t have infinite decimal places) and i is the square root of -1. We probably won’t do much of anything with these.\n",
    "3. **float:** a type composed by rational numbers. These numbers represent all of your decimals and fractions. A computer has to find ways to represent as much as it can. It can’t represent every decimal and fraction exactly--it would have too take up too much space for that. A notation called floating-point notation is used to represent these numbers; hence, the type has been consistently called float.\n",
    "4. **int:** a type we’ve already seen--it represents the set of integers, or those positive and negative whole numbers along with zero.\n",
    "5. **str:** a type we’ve already seen--it represents a character or group of characters.\n",
    "\n",
    "As we said before, a type is a set of values that, together, are distinct and have specific attributes and actions which they can perform. We can call upon their functions with dot notation. Certain operators--symbols that have been predefined by the language to perform a function--may also perform these actions.\n"
   ]
  },
  {
   "cell_type": "markdown",
   "metadata": {},
   "source": [
    "Let’s start by writing some of these values out. Here’s an example of each:"
   ]
  },
  {
   "cell_type": "code",
   "execution_count": 1,
   "metadata": {},
   "outputs": [],
   "source": [
    "my_bool = True\n",
    "my_complex = 41 + 1j \n",
    "\n",
    "# Note: an expression of a + bj, where a and b are either floats or integers, indicates the form of a complex number.\n",
    "my_float = 42.42\n",
    "\n",
    "my_int = 42\n",
    "my_str = \"forty-two\""
   ]
  },
  {
   "cell_type": "markdown",
   "metadata": {},
   "source": [
    "Remember, these are all examples of **assignment**. In each, we have created a variable with some title. It represents our value throughout the program, storing it and retrieving it for us as we require it.\n",
    "\n",
    "Now, let’s examine some functions with these various types. First, we’ll look at the numeric types--in particular, *int* and *float*. Remember that each function can return a useful value. This value will be displayed to the right of the function with a comment. Comments, signaled by the \"#\" character, are not read by the program. Rather, they are simply notes for us to remember what’s going on in the code. They can be on the same line as actual code or on a separate line."
   ]
  },
  {
   "cell_type": "code",
   "execution_count": 8,
   "metadata": {},
   "outputs": [
    {
     "name": "stdout",
     "output_type": "stream",
     "text": [
      "Results: \n",
      "5\n",
      "5\n"
     ]
    }
   ],
   "source": [
    "# Here’s absolute value. If you don’t remember what this is, it’s simple!\n",
    "# Absolute value tells us the magnitude of the distance of a value from zero.\n",
    "# We don’t care whether the value is below or above zero--we just care about the distance.\n",
    "\n",
    "abs_first = abs(5)\n",
    "abs_second = abs(-5)\n",
    "\n",
    "print(\"Results: \")\n",
    "print(abs_first)\n",
    "print(abs_second)"
   ]
  },
  {
   "cell_type": "code",
   "execution_count": 9,
   "metadata": {},
   "outputs": [
    {
     "name": "stdout",
     "output_type": "stream",
     "text": [
      "Results: \n",
      "100\n",
      "100\n",
      "\n",
      "125\n",
      "125\n",
      "\n",
      "3.1622776601683795\n",
      "3.1622776601683795\n"
     ]
    }
   ],
   "source": [
    "# Here, we can see there are two ways to do exponentiation (AKA \"powers\").\n",
    "# The \"**\" symbol is an operator for this in Python. It can handle both square roots and large powers.\n",
    "# The pow(base, exponent) function also does this. They are nearly the same, but pow() has extra options. \n",
    "# We can discuss those later.\n",
    "\n",
    "exp_1a = 10**2 # returns 100 (int)\n",
    "exp_1b = pow(10, 2) # returns 100 (int)\n",
    "exp_2a = 5**3 # returns 125 (int)\n",
    "exp_2b = pow(5, 3) # returns 125 (int)\n",
    "exp_3a = 10**(1/2) # returns  3.1622776601683795 (float)\n",
    "exp_3b = pow(10, (1/2)) # returns 3.1622776601683795 (float)\n",
    "\n",
    "print(\"Results: \")\n",
    "print(exp_1a)\n",
    "print(exp_1b)\n",
    "print(\"\")\n",
    "print(exp_2a)\n",
    "print(exp_2b)\n",
    "print(\"\")\n",
    "print(exp_3a)\n",
    "print(exp_3b)"
   ]
  },
  {
   "cell_type": "code",
   "execution_count": 10,
   "metadata": {},
   "outputs": [
    {
     "name": "stdout",
     "output_type": "stream",
     "text": [
      "Results: \n",
      "5.0\n",
      "5.0\n"
     ]
    }
   ],
   "source": [
    "# The next function isn't a built-in function--that is, Python doesn't let us use it automatically.\n",
    "# This function is part of a library--a separate body of code that's already been made.\n",
    "# We can import this code like so:\n",
    "import math\n",
    "\n",
    "# As with the above functions, we see that there’s a sqrt() function for our needs.\n",
    "# But ** and pow() can also handle this.\n",
    "sqrt_1a = 25**(1/2) # returns 5 (float)\n",
    "sqrt_1b = math.sqrt(25) # returns 5 (float)\n",
    "\n",
    "print(\"Results: \")\n",
    "print(sqrt_1a)\n",
    "print(sqrt_1b)"
   ]
  },
  {
   "cell_type": "markdown",
   "metadata": {},
   "source": [
    "We saw some curious behavior above. We could give an int as an argument to a function (e.g. 10) but receive a *float* as a return value (e.g. that long decimal above). Furthermore, in one instance, \\*\\* and pow() returned *int* values, whereas they returned *float* values in another. Functions in Python aren’t restricted to a single return type. This is because Python is *dynamically-typed*; all types are determined when the program is actually running, so it only reacts to input and output as it processes it. On the one hand, this is useful mathematical behavior. We’d prefer simpler numbers if the numbers are simpler (e.g. sqrt(25) is 5) but more complicated numbers if there is a need for them (as we saw with 10\\*\\*(1/2) above)."
   ]
  },
  {
   "cell_type": "markdown",
   "metadata": {},
   "source": [
    "Let’s look at a few more functions that involve these ideas of shifting types."
   ]
  },
  {
   "cell_type": "code",
   "execution_count": 11,
   "metadata": {},
   "outputs": [
    {
     "name": "stdout",
     "output_type": "stream",
     "text": [
      "Results: \n",
      "26\n",
      "25\n"
     ]
    }
   ],
   "source": [
    "# The following function, round(), takes a float and rounds it to the nearest integer. It returns an integer.\n",
    "round_1a = round(25.51) # returns 26 (int)\n",
    "round_1b = round(25.49) # returns 25 (int)\n",
    "\n",
    "print(\"Results: \")\n",
    "print(round_1a)\n",
    "print(round_1b)"
   ]
  },
  {
   "cell_type": "markdown",
   "metadata": {},
   "source": [
    "The above is a form of type conversion--the alteration of one type into another. Here’s another example with a string:"
   ]
  },
  {
   "cell_type": "code",
   "execution_count": 12,
   "metadata": {},
   "outputs": [
    {
     "name": "stdout",
     "output_type": "stream",
     "text": [
      "Results: \n",
      "6\n"
     ]
    }
   ],
   "source": [
    "# The len() function returns the length of an item. In this case,it returns the number of characters in the string.\n",
    "length_1 = len(\"string\") # returns 6 (int)\n",
    "\n",
    "print(\"Results: \")\n",
    "print(length_1)"
   ]
  },
  {
   "cell_type": "markdown",
   "metadata": {},
   "source": [
    "What we’ve done in the two above examples is more implicit in the function. But we can convert types explicitly, too. This allows us to use functions from different types on the same input and alter it according to our desired outcome."
   ]
  },
  {
   "cell_type": "code",
   "execution_count": 13,
   "metadata": {},
   "outputs": [
    {
     "name": "stdout",
     "output_type": "stream",
     "text": [
      "Results: \n",
      "<class 'str'>\n",
      "<class 'int'>\n",
      "<class 'float'>\n"
     ]
    }
   ],
   "source": [
    "# The following functions perform type conversion:\n",
    "convert_1 = str(10) # returns \"10\" (str)\n",
    "convert_2 = int(\"10\") # returns 10 (int)\n",
    "convert_3 = float(10) # returns 10.0 (float)\n",
    "\n",
    "print(\"Results: \")\n",
    "print(type(convert_1))\n",
    "print(type(convert_2))\n",
    "print(type(convert_3))"
   ]
  },
  {
   "cell_type": "markdown",
   "metadata": {},
   "source": [
    "If we want to know the type explicitly, we can also use a function to find out what type a value is. Thankfully, this function is also easy to remember--it’s just type()!"
   ]
  },
  {
   "cell_type": "code",
   "execution_count": 14,
   "metadata": {},
   "outputs": [
    {
     "name": "stdout",
     "output_type": "stream",
     "text": [
      "Results: \n",
      "<class 'int'>\n",
      "<class 'str'>\n",
      "<class 'float'>\n"
     ]
    }
   ],
   "source": [
    "# The type() function at work:\n",
    "type_a = type(10) # returns int\n",
    "type_b = type(\"10\") # returns str\n",
    "type_c = type(10.0) # returns float\n",
    "\n",
    "print(\"Results: \")\n",
    "print(type_a)\n",
    "print(type_b)\n",
    "print(type_c)"
   ]
  },
  {
   "cell_type": "markdown",
   "metadata": {},
   "source": [
    "Not everything has an explicit type. Rather, we may use other types to manipulate certain values as we wish. Here are some other converters between *int* and *str* that produce useful values:"
   ]
  },
  {
   "cell_type": "code",
   "execution_count": 15,
   "metadata": {},
   "outputs": [
    {
     "name": "stdout",
     "output_type": "stream",
     "text": [
      "Results: \n",
      "0b1010\n",
      "<class 'str'>\n",
      "0xa\n",
      "<class 'str'>\n"
     ]
    }
   ],
   "source": [
    "# binary conversion:\n",
    "binary_val = bin(10) # returns \"0b1010\", where \"1010\" is 10 in binary\n",
    "# hexadecimal conversion:\n",
    "hexadecimal_val = hex(10) # returns \"0xa\", where \"a\" is 10 in hexadecimal\n",
    "\n",
    "print(\"Results: \")\n",
    "print(binary_val)\n",
    "print(type(binary_val))\n",
    "print(hexadecimal_val)\n",
    "print(type(binary_val))"
   ]
  },
  {
   "cell_type": "markdown",
   "metadata": {},
   "source": [
    "Now, we’ve seen a lot of regular functions. All of the above functions we’ve used involve *function calls*. The functions have been defined for us; we just need to give the function an *argument* to be in the place of a *parameter* that the function has been defined with in order to establish a set behavior. None of these have been a function that is part of a *type*, however--these functions are indicated with *dot notation*. Let’s look at some more *str* functions to see some examples."
   ]
  },
  {
   "cell_type": "code",
   "execution_count": 16,
   "metadata": {},
   "outputs": [
    {
     "name": "stdout",
     "output_type": "stream",
     "text": [
      "Results: \n",
      "    in the middle    \n"
     ]
    }
   ],
   "source": [
    "# Here are some mutator functions. \n",
    "\n",
    "# The center function is called on a string and takes a number of characters.\n",
    "# The string is centered in a new string with the number of characters given.\n",
    "centered = \"in the middle\".center(21) # returns \"    in the middle    \"\n",
    "\n",
    "print(\"Results: \")\n",
    "print(centered)"
   ]
  },
  {
   "cell_type": "code",
   "execution_count": 17,
   "metadata": {},
   "outputs": [
    {
     "name": "stdout",
     "output_type": "stream",
     "text": [
      "Results: \n",
      "the brown fox jumped over the lthezy dog\n"
     ]
    }
   ],
   "source": [
    "# The replace function is called on a string and takes two strings. The first is the ‘old’ string--the string to be replaced.\n",
    "# The second is the ‘new’ string--the string that replaces the ‘old’ string. Beware: space is a character; be mindful of that!\n",
    "changed = \"a brown fox jumped over a lazy dog\".replace(\"a\", \"the\") # returns \"the brown fox jumped over the lthezy dog\"\n",
    "\n",
    "print(\"Results: \")\n",
    "print(changed)"
   ]
  },
  {
   "cell_type": "code",
   "execution_count": 18,
   "metadata": {},
   "outputs": [
    {
     "name": "stdout",
     "output_type": "stream",
     "text": [
      "Results: \n"
     ]
    },
    {
     "data": {
      "text/plain": [
       "'lOlZ nOoB'"
      ]
     },
     "execution_count": 18,
     "metadata": {},
     "output_type": "execute_result"
    }
   ],
   "source": [
    "# The swapcase function simply swaps the case of each character. \n",
    "# This doesn’t work for every character, although it should work for common characters.\n",
    "\n",
    "print(\"Results: \")\n",
    "\"LoLz NoOb\".swapcase() # returns \"lOlZ nOoB\""
   ]
  },
  {
   "cell_type": "markdown",
   "metadata": {},
   "source": [
    "The above functions were all **mutators**--they changed their input and returned it; the state of the program is permanently changed after they have acted. We can see some **accessors**, or functions that simply retrieve a value and report on it below."
   ]
  },
  {
   "cell_type": "code",
   "execution_count": 19,
   "metadata": {},
   "outputs": [
    {
     "name": "stdout",
     "output_type": "stream",
     "text": [
      "Results: \n",
      "6\n"
     ]
    }
   ],
   "source": [
    "# The count function takes a character and determines how many of that character are in the initial string.\n",
    "lolls_off_the_tongue = \"lovely laughter lazily lingers\".count(\"l\") # returns 6\n",
    "\n",
    "print(\"Results: \")\n",
    "print(lolls_off_the_tongue)"
   ]
  },
  {
   "cell_type": "code",
   "execution_count": 20,
   "metadata": {},
   "outputs": [
    {
     "name": "stdout",
     "output_type": "stream",
     "text": [
      "Results: \n",
      "0\n",
      "17\n"
     ]
    }
   ],
   "source": [
    "# The find and rfind functions search for the first instance of a given character in a string.\n",
    "# They return the index of the character in that string.\n",
    "one_find = \"sufferin’ succotash\".find(\"s\") # returns 0\n",
    "two_find = \"sufferin’ succotash\".rfind(\"s\") # returns 17\n",
    "\n",
    "print(\"Results: \")\n",
    "print(one_find)\n",
    "print(two_find)"
   ]
  },
  {
   "cell_type": "markdown",
   "metadata": {},
   "source": [
    "Now, the above might seem confusing. Why did the first find() call return 0? This is a common trait of programming languages: when counting values in a sequence or list, start at 0. In mathematics and computer science, there is a set of numbers called \"natural numbers\"--essentially, the set of positive whole numbers. Computer scientists consider 0 to be part of this group, whereas mathematicians often do not. It is an unsettled issue; nevertheless, this is the convention. Thus, we could say that the value *s* is at index 0. An index is simply a value that denotes a location in a sequence, such as a string, which is nothing but a sequence of characters."
   ]
  },
  {
   "cell_type": "markdown",
   "metadata": {},
   "source": [
    "Below, we’ll look at some more accessors that specifically return True or False--in other words, a Boolean value. We’ll examine these values in more depth in the next lesson, but it’s good to take a look at them now. We can see how particular they are!\n"
   ]
  },
  {
   "cell_type": "code",
   "execution_count": 21,
   "metadata": {},
   "outputs": [
    {
     "name": "stdout",
     "output_type": "stream",
     "text": [
      "Results: \n",
      "True\n",
      "False\n"
     ]
    }
   ],
   "source": [
    "# The function isdigit() returns True if and only if the given string contains only numeric characters.\n",
    "# Otherwise, it returns False.\n",
    "digit_didit = \"42\".isdigit() # returns True\n",
    "digit_didnt = \"4,200\".isdigit() # returns False … note the comma!\n",
    "\n",
    "print(\"Results: \")\n",
    "print(digit_didit)\n",
    "print(digit_didnt)"
   ]
  },
  {
   "cell_type": "code",
   "execution_count": 22,
   "metadata": {},
   "outputs": [
    {
     "name": "stdout",
     "output_type": "stream",
     "text": [
      "Results: \n",
      "True\n",
      "False\n"
     ]
    }
   ],
   "source": [
    "# The function istitle() returns True if the string is in a title format. Otherwise, it returns False.\n",
    "# A title format has each word starting with a capital letter; all other letters are lowercase.\n",
    "pompous = \"Regal Title\".istitle() # returns True\n",
    "tacky = \"PeasantTitle\".istitle() # returns False\n",
    "\n",
    "print(\"Results: \")\n",
    "print(pompous)\n",
    "print(tacky)"
   ]
  },
  {
   "cell_type": "code",
   "execution_count": 23,
   "metadata": {},
   "outputs": [
    {
     "name": "stdout",
     "output_type": "stream",
     "text": [
      "Results: \n",
      "True\n",
      "False\n"
     ]
    }
   ],
   "source": [
    "# The function isspace() returns True if the string consists of only whitespace. Otherwise, it returns False.\n",
    "blank_space = \"         \".isspace() # returns True\n",
    "k_space = \"         k                  \".isspace() # returns False\n",
    "\n",
    "print(\"Results: \")\n",
    "print(blank_space)\n",
    "print(k_space)"
   ]
  },
  {
   "cell_type": "code",
   "execution_count": 24,
   "metadata": {},
   "outputs": [
    {
     "name": "stdout",
     "output_type": "stream",
     "text": [
      "Results: \n",
      "True\n",
      "False\n",
      "True\n"
     ]
    }
   ],
   "source": [
    "# The functions below, isupper() and islower(), should be apparent to you.\n",
    "# They correspond with the upper() and lower() functions, checking for what format they should be in.\n",
    "vocal = \"I WILL BE HEARD\".isupper() # returns True\n",
    "semi_vocal = \"i might BE HEARD\".isupper() # returns False\n",
    "quiet = \"i won’t be heard\".islower() # returns True\n",
    "\n",
    "print(\"Results: \")\n",
    "print(vocal)\n",
    "print(semi_vocal)\n",
    "print(quiet)"
   ]
  },
  {
   "cell_type": "code",
   "execution_count": 25,
   "metadata": {},
   "outputs": [
    {
     "name": "stdout",
     "output_type": "stream",
     "text": [
      "Results: \n",
      "False\n"
     ]
    }
   ],
   "source": [
    "# The startswith() function checks to see whether a string begins with a given character or group of characters.\n",
    "# If it begins with said character(s), it returns True. Otherwise, it returns False.\n",
    "contradiction = \"this statement is false\".startswith(\"f\") # returns False\n",
    "\n",
    "print(\"Results: \")\n",
    "print(contradiction)"
   ]
  },
  {
   "cell_type": "markdown",
   "metadata": {},
   "source": [
    "We’ve seen a lot about functions that Python has provided for us. With all of these functions, we may begin to think about functions that we could write for ourselves. We’ve talked a little about the *syntax* of a function--the notation one needs to write it with so that it is defined properly for Python--and the **input** and **output** to a function. Let’s write and use a few of these to get some more experience with them. Feel free to put this code inside of your IDE and try out some of your own examples. This may help you understand what exactly is going on a bit better. Furthermore, it can be fun!\n"
   ]
  },
  {
   "cell_type": "code",
   "execution_count": 26,
   "metadata": {},
   "outputs": [
    {
     "name": "stdout",
     "output_type": "stream",
     "text": [
      "Results: \n",
      "I! need! some! coffee!\n",
      "Never! again! will! I! sit! idle!\n",
      "I! enjoy! yelling!\n"
     ]
    }
   ],
   "source": [
    "# Function 1:\n",
    "# This function takes a string and gives it some emphasis by replacing certain items in the string with exclamation points.\n",
    "def emphasize(phrase):\n",
    "    return phrase.replace(\" \", \"! \").replace(\".\", \"!\")\n",
    "\n",
    "print(\"Results: \")\n",
    "print(emphasize(\"I need some coffee.\"))\n",
    "print(emphasize(\"Never again will I sit idle.\"))\n",
    "print(emphasize(\"I enjoy yelling.\"))\n",
    "# print(emphasize(42)) -- this would throw an error!\n"
   ]
  },
  {
   "cell_type": "code",
   "execution_count": 27,
   "metadata": {},
   "outputs": [
    {
     "name": "stdout",
     "output_type": "stream",
     "text": [
      "Results: \n",
      "12\n",
      "6\n"
     ]
    }
   ],
   "source": [
    "# Function 2:\n",
    "# This function takes a string and two watch values.\n",
    "# It counts up the number of times that each value is in string,\n",
    "# adds them together, and then returns that value.\n",
    "def double_count(string, watch_1, watch_2):\n",
    "    return string.count(watch_1) + string.count(watch_2)\n",
    "\n",
    "print(\"Results: \")\n",
    "print(double_count(\"what’s good for the goose is good for the gander\", \"g\", \"o\"))\n",
    "print(double_count(\"antidisestablishmentarianism\", \"m\", \"a\"))"
   ]
  },
  {
   "cell_type": "code",
   "execution_count": 28,
   "metadata": {},
   "outputs": [
    {
     "name": "stdout",
     "output_type": "stream",
     "text": [
      "Results: \n",
      "<class 'int'>\n",
      "<class 'str'>\n",
      "<class 'float'>\n",
      "<class 'bool'>\n",
      "<class 'complex'>\n"
     ]
    }
   ],
   "source": [
    "# Function 3:\n",
    "# This function serves as a shortcut to print the type of a value.\n",
    "def print_type(value):\n",
    "    print(type(value))\n",
    "    \n",
    "print(\"Results: \")\n",
    "print_type(5)\n",
    "print_type(\"5\")\n",
    "print_type(5.0)\n",
    "print_type(True)\n",
    "print_type(5 + 3j)"
   ]
  },
  {
   "cell_type": "code",
   "execution_count": 29,
   "metadata": {},
   "outputs": [
    {
     "name": "stdout",
     "output_type": "stream",
     "text": [
      "Results: \n",
      "4\n",
      "0\n"
     ]
    }
   ],
   "source": [
    "# Function 4:\n",
    "# The following method finds the first and last instance of a character in a string and returns the distance between them.\n",
    "def find_character_distance(string, character):\n",
    "    return string.rfind(character) - string.find(character)\n",
    "\n",
    "print(\"Results: \")\n",
    "print(find_character_distance(\"lovely\", \"l\"))\n",
    "print(find_character_distance(\"lazy\", \"z\"))"
   ]
  },
  {
   "cell_type": "code",
   "execution_count": 30,
   "metadata": {},
   "outputs": [
    {
     "name": "stdout",
     "output_type": "stream",
     "text": [
      "Results: \n",
      "4\n",
      "8\n",
      "1\n",
      "7\n"
     ]
    }
   ],
   "source": [
    "# Function 5:\n",
    "# The following method returns the number of digits that a number has.\n",
    "def get_num_digits(number):\n",
    "    return len(str(number))\n",
    "\n",
    "print(\"Results: \")\n",
    "print(get_num_digits(5032))\n",
    "print(get_num_digits(12308328))\n",
    "print(get_num_digits(0))\n",
    "# Do you think that the function below will give the appropriate result? (e.g. 5)?\n",
    "print(get_num_digits(.38203))"
   ]
  },
  {
   "cell_type": "markdown",
   "metadata": {},
   "source": [
    "Here’s a set of three functions being used together. Note that we can use them separately or together--it’s up to us to call them and coordinate them as we wish."
   ]
  },
  {
   "cell_type": "code",
   "execution_count": 32,
   "metadata": {},
   "outputs": [
    {
     "name": "stdout",
     "output_type": "stream",
     "text": [
      "Results: \n",
      "What do you have to say for yourself? You won't take me alive!\n",
      "'You won't take me alive!'\n",
      "So, that’s it, eh?\n",
      "yOU WON'T TAKE ME ALIVE!\n",
      "LOL!\n",
      "Hah. Got 'em.\n",
      "\n",
      "tHIS IS MY INPUT.\n",
      "LOL!\n",
      "\n",
      "What do you have to say for yourself? Nothing.\n",
      "'Nothing.'\n",
      "So, that’s it, eh?\n"
     ]
    },
    {
     "data": {
      "text/plain": [
       "'Nothing.'"
      ]
     },
     "execution_count": 32,
     "metadata": {},
     "output_type": "execute_result"
    }
   ],
   "source": [
    "def get_user_input():\n",
    "    my_input: str = input(\"What do you have to say for yourself? \")\n",
    "    print(\"'\" + my_input + \"'\")\n",
    "    print(\"So, that’s it, eh?\")\n",
    "    return my_input\n",
    "\n",
    "def mock_user(input):\n",
    "    print(input.swapcase())\n",
    "    print(\"LOL!\")\n",
    "\n",
    "def interrogate():\n",
    "    mock_user(get_user_input())\n",
    "    print(\"Hah. Got 'em.\")\n",
    "\n",
    "print(\"Results: \")\n",
    "interrogate()\n",
    "print(\"\")\n",
    "mock_user(\"This is my input.\")\n",
    "print(\"\")\n",
    "get_user_input()"
   ]
  },
  {
   "cell_type": "markdown",
   "metadata": {},
   "source": [
    "Hopefully, these many examples were able to help you. More can be provided on request. Also, if more exercises are desired to practice at these techniques, feel free to ask for that, as well!"
   ]
  },
  {
   "cell_type": "markdown",
   "metadata": {},
   "source": [
    "### Optional Assignments"
   ]
  },
  {
   "cell_type": "markdown",
   "metadata": {},
   "source": [
    "Here’s a few other functions to write if you’re itching for more:\n",
    "1. Write a function, *inch_to_cm*, that takes an *int* or *float* input, representing inches, and converts those inches to centimeters before returning that centimeter value.\n",
    "2. Write a function, *is_odd*, that takes a nonnegative integer value and determines whether a it is odd. To do this, you’ll need the bool() conversion function (that is, it is a function just like str(), int(), and float() above, but converts the given value to a *bool* type). You need to compute a value that becomes only 1 or 0 and helps you determine whether a value is even or odd. You’ll also need the operator described below.\n",
    "     1. The symbol % is the *modulo* operator. It is an operator just like +, -, \\*, and /. It performs division, but returns the *remainder* instead of the result of the division. In other words, 10 % 3 returns 1, as 10 / 3 equals 3 with a remainder of 1.\n",
    "3. Write a function, *remove_punctuation*, that takes a string as a parameter and removes its commas, periods, exclamation points, question marks, and any other punctuation that you just don’t care for. Note that this will likely involve chaining the same function multiple times (e.g. string.same_function().same_function().same_function() …)."
   ]
  }
 ],
 "metadata": {
  "kernelspec": {
   "display_name": "Python 3",
   "language": "python",
   "name": "python3"
  },
  "language_info": {
   "codemirror_mode": {
    "name": "ipython",
    "version": 3
   },
   "file_extension": ".py",
   "mimetype": "text/x-python",
   "name": "python",
   "nbconvert_exporter": "python",
   "pygments_lexer": "ipython3",
   "version": "3.7.0"
  }
 },
 "nbformat": 4,
 "nbformat_minor": 2
}
